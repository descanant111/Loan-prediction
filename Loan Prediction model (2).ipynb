{
 "cells": [
  {
   "cell_type": "markdown",
   "id": "370d35f0",
   "metadata": {},
   "source": [
    "#                                      Loan prediction Model¶\n",
    "The two most pressing issues in the banking sector are: 1) How risky is the borrower? 2) Should we lend to the borrower given the risk? The response to the first question dictates the borrower's interest rate. Interest rate, among other things (such as time value of money), tests the riskiness of the borrower, i.e. the higher the interest rate, the riskier the borrower."
   ]
  },
  {
   "cell_type": "code",
   "execution_count": 3,
   "id": "3847d73e",
   "metadata": {},
   "outputs": [],
   "source": [
    "# Importing libraries\n",
    "import os\n",
    "\n",
    "# Dataproccesing \n",
    "import pandas as pd \n",
    "import numpy as np \n",
    "\n",
    "## Ploting Libraries\n",
    "import matplotlib.pyplot as pp\n",
    "import matplotlib.pyplot as plt\n",
    "import seaborn as sns\n",
    "import warnings\n",
    "warnings.filterwarnings(\"ignore\")"
   ]
  },
  {
   "cell_type": "code",
   "execution_count": 4,
   "id": "8c115629",
   "metadata": {},
   "outputs": [],
   "source": [
    "## ML Libraries\n",
    "from sklearn.preprocessing import LabelEncoder\n",
    "from sklearn.model_selection import train_test_split\n",
    "from sklearn.metrics import confusion_matrix\n",
    "from sklearn.metrics import classification_report\n",
    "from sklearn.metrics import accuracy_score\n",
    "\n",
    "from sklearn import tree\n",
    "from sklearn.tree import DecisionTreeClassifier "
   ]
  },
  {
   "cell_type": "code",
   "execution_count": 5,
   "id": "3ed6e720",
   "metadata": {},
   "outputs": [],
   "source": [
    "df_train = pd.read_csv(r'C:\\Users\\nishu\\Desktop\\Dataset\\train.csv')\n",
    "df_test=pd.read_csv(r'C:\\Users\\nishu\\Desktop\\Dataset\\test.csv')"
   ]
  },
  {
   "cell_type": "code",
   "execution_count": 6,
   "id": "f68700bf",
   "metadata": {},
   "outputs": [
    {
     "data": {
      "text/plain": [
       "Index(['Loan_ID', 'Gender', 'Married', 'Dependents', 'Education',\n",
       "       'Self_Employed', 'ApplicantIncome', 'CoapplicantIncome', 'LoanAmount',\n",
       "       'Loan_Amount_Term', 'Credit_History', 'Property_Area', 'Loan_Status'],\n",
       "      dtype='object')"
      ]
     },
     "execution_count": 6,
     "metadata": {},
     "output_type": "execute_result"
    }
   ],
   "source": [
    "df_train.columns"
   ]
  },
  {
   "cell_type": "code",
   "execution_count": 7,
   "id": "3ef6c8e4",
   "metadata": {},
   "outputs": [
    {
     "data": {
      "text/plain": [
       "Index(['Loan_ID', 'Gender', 'Married', 'Dependents', 'Education',\n",
       "       'Self_Employed', 'ApplicantIncome', 'CoapplicantIncome', 'LoanAmount',\n",
       "       'Loan_Amount_Term', 'Credit_History', 'Property_Area'],\n",
       "      dtype='object')"
      ]
     },
     "execution_count": 7,
     "metadata": {},
     "output_type": "execute_result"
    }
   ],
   "source": [
    "df_test.columns"
   ]
  },
  {
   "cell_type": "markdown",
   "id": "65fa2faf",
   "metadata": {},
   "source": [
    "# EXPLORATATORY DATA ANALYSIS"
   ]
  },
  {
   "cell_type": "code",
   "execution_count": 8,
   "id": "47fc7504",
   "metadata": {},
   "outputs": [
    {
     "data": {
      "text/html": [
       "<div>\n",
       "<style scoped>\n",
       "    .dataframe tbody tr th:only-of-type {\n",
       "        vertical-align: middle;\n",
       "    }\n",
       "\n",
       "    .dataframe tbody tr th {\n",
       "        vertical-align: top;\n",
       "    }\n",
       "\n",
       "    .dataframe thead th {\n",
       "        text-align: right;\n",
       "    }\n",
       "</style>\n",
       "<table border=\"1\" class=\"dataframe\">\n",
       "  <thead>\n",
       "    <tr style=\"text-align: right;\">\n",
       "      <th></th>\n",
       "      <th>Loan_ID</th>\n",
       "      <th>Gender</th>\n",
       "      <th>Married</th>\n",
       "      <th>Dependents</th>\n",
       "      <th>Education</th>\n",
       "      <th>Self_Employed</th>\n",
       "      <th>ApplicantIncome</th>\n",
       "      <th>CoapplicantIncome</th>\n",
       "      <th>LoanAmount</th>\n",
       "      <th>Loan_Amount_Term</th>\n",
       "      <th>Credit_History</th>\n",
       "      <th>Property_Area</th>\n",
       "    </tr>\n",
       "  </thead>\n",
       "  <tbody>\n",
       "    <tr>\n",
       "      <th>0</th>\n",
       "      <td>LP001015</td>\n",
       "      <td>Male</td>\n",
       "      <td>Yes</td>\n",
       "      <td>0</td>\n",
       "      <td>Graduate</td>\n",
       "      <td>No</td>\n",
       "      <td>5720</td>\n",
       "      <td>0</td>\n",
       "      <td>110.0</td>\n",
       "      <td>360.0</td>\n",
       "      <td>1.0</td>\n",
       "      <td>Urban</td>\n",
       "    </tr>\n",
       "    <tr>\n",
       "      <th>1</th>\n",
       "      <td>LP001022</td>\n",
       "      <td>Male</td>\n",
       "      <td>Yes</td>\n",
       "      <td>1</td>\n",
       "      <td>Graduate</td>\n",
       "      <td>No</td>\n",
       "      <td>3076</td>\n",
       "      <td>1500</td>\n",
       "      <td>126.0</td>\n",
       "      <td>360.0</td>\n",
       "      <td>1.0</td>\n",
       "      <td>Urban</td>\n",
       "    </tr>\n",
       "    <tr>\n",
       "      <th>2</th>\n",
       "      <td>LP001031</td>\n",
       "      <td>Male</td>\n",
       "      <td>Yes</td>\n",
       "      <td>2</td>\n",
       "      <td>Graduate</td>\n",
       "      <td>No</td>\n",
       "      <td>5000</td>\n",
       "      <td>1800</td>\n",
       "      <td>208.0</td>\n",
       "      <td>360.0</td>\n",
       "      <td>1.0</td>\n",
       "      <td>Urban</td>\n",
       "    </tr>\n",
       "    <tr>\n",
       "      <th>3</th>\n",
       "      <td>LP001035</td>\n",
       "      <td>Male</td>\n",
       "      <td>Yes</td>\n",
       "      <td>2</td>\n",
       "      <td>Graduate</td>\n",
       "      <td>No</td>\n",
       "      <td>2340</td>\n",
       "      <td>2546</td>\n",
       "      <td>100.0</td>\n",
       "      <td>360.0</td>\n",
       "      <td>NaN</td>\n",
       "      <td>Urban</td>\n",
       "    </tr>\n",
       "    <tr>\n",
       "      <th>4</th>\n",
       "      <td>LP001051</td>\n",
       "      <td>Male</td>\n",
       "      <td>No</td>\n",
       "      <td>0</td>\n",
       "      <td>Not Graduate</td>\n",
       "      <td>No</td>\n",
       "      <td>3276</td>\n",
       "      <td>0</td>\n",
       "      <td>78.0</td>\n",
       "      <td>360.0</td>\n",
       "      <td>1.0</td>\n",
       "      <td>Urban</td>\n",
       "    </tr>\n",
       "  </tbody>\n",
       "</table>\n",
       "</div>"
      ],
      "text/plain": [
       "    Loan_ID Gender Married Dependents     Education Self_Employed  \\\n",
       "0  LP001015   Male     Yes          0      Graduate            No   \n",
       "1  LP001022   Male     Yes          1      Graduate            No   \n",
       "2  LP001031   Male     Yes          2      Graduate            No   \n",
       "3  LP001035   Male     Yes          2      Graduate            No   \n",
       "4  LP001051   Male      No          0  Not Graduate            No   \n",
       "\n",
       "   ApplicantIncome  CoapplicantIncome  LoanAmount  Loan_Amount_Term  \\\n",
       "0             5720                  0       110.0             360.0   \n",
       "1             3076               1500       126.0             360.0   \n",
       "2             5000               1800       208.0             360.0   \n",
       "3             2340               2546       100.0             360.0   \n",
       "4             3276                  0        78.0             360.0   \n",
       "\n",
       "   Credit_History Property_Area  \n",
       "0             1.0         Urban  \n",
       "1             1.0         Urban  \n",
       "2             1.0         Urban  \n",
       "3             NaN         Urban  \n",
       "4             1.0         Urban  "
      ]
     },
     "execution_count": 8,
     "metadata": {},
     "output_type": "execute_result"
    }
   ],
   "source": [
    "df_test.head()"
   ]
  },
  {
   "cell_type": "code",
   "execution_count": 9,
   "id": "a0ed91e1",
   "metadata": {},
   "outputs": [
    {
     "data": {
      "text/html": [
       "<div>\n",
       "<style scoped>\n",
       "    .dataframe tbody tr th:only-of-type {\n",
       "        vertical-align: middle;\n",
       "    }\n",
       "\n",
       "    .dataframe tbody tr th {\n",
       "        vertical-align: top;\n",
       "    }\n",
       "\n",
       "    .dataframe thead th {\n",
       "        text-align: right;\n",
       "    }\n",
       "</style>\n",
       "<table border=\"1\" class=\"dataframe\">\n",
       "  <thead>\n",
       "    <tr style=\"text-align: right;\">\n",
       "      <th></th>\n",
       "      <th>Loan_ID</th>\n",
       "      <th>Gender</th>\n",
       "      <th>Married</th>\n",
       "      <th>Dependents</th>\n",
       "      <th>Education</th>\n",
       "      <th>Self_Employed</th>\n",
       "      <th>ApplicantIncome</th>\n",
       "      <th>CoapplicantIncome</th>\n",
       "      <th>LoanAmount</th>\n",
       "      <th>Loan_Amount_Term</th>\n",
       "      <th>Credit_History</th>\n",
       "      <th>Property_Area</th>\n",
       "      <th>Loan_Status</th>\n",
       "    </tr>\n",
       "  </thead>\n",
       "  <tbody>\n",
       "    <tr>\n",
       "      <th>0</th>\n",
       "      <td>LP001002</td>\n",
       "      <td>Male</td>\n",
       "      <td>No</td>\n",
       "      <td>0</td>\n",
       "      <td>Graduate</td>\n",
       "      <td>No</td>\n",
       "      <td>5849</td>\n",
       "      <td>0.0</td>\n",
       "      <td>NaN</td>\n",
       "      <td>360.0</td>\n",
       "      <td>1.0</td>\n",
       "      <td>Urban</td>\n",
       "      <td>Y</td>\n",
       "    </tr>\n",
       "    <tr>\n",
       "      <th>1</th>\n",
       "      <td>LP001003</td>\n",
       "      <td>Male</td>\n",
       "      <td>Yes</td>\n",
       "      <td>1</td>\n",
       "      <td>Graduate</td>\n",
       "      <td>No</td>\n",
       "      <td>4583</td>\n",
       "      <td>1508.0</td>\n",
       "      <td>128.0</td>\n",
       "      <td>360.0</td>\n",
       "      <td>1.0</td>\n",
       "      <td>Rural</td>\n",
       "      <td>N</td>\n",
       "    </tr>\n",
       "    <tr>\n",
       "      <th>2</th>\n",
       "      <td>LP001005</td>\n",
       "      <td>Male</td>\n",
       "      <td>Yes</td>\n",
       "      <td>0</td>\n",
       "      <td>Graduate</td>\n",
       "      <td>Yes</td>\n",
       "      <td>3000</td>\n",
       "      <td>0.0</td>\n",
       "      <td>66.0</td>\n",
       "      <td>360.0</td>\n",
       "      <td>1.0</td>\n",
       "      <td>Urban</td>\n",
       "      <td>Y</td>\n",
       "    </tr>\n",
       "    <tr>\n",
       "      <th>3</th>\n",
       "      <td>LP001006</td>\n",
       "      <td>Male</td>\n",
       "      <td>Yes</td>\n",
       "      <td>0</td>\n",
       "      <td>Not Graduate</td>\n",
       "      <td>No</td>\n",
       "      <td>2583</td>\n",
       "      <td>2358.0</td>\n",
       "      <td>120.0</td>\n",
       "      <td>360.0</td>\n",
       "      <td>1.0</td>\n",
       "      <td>Urban</td>\n",
       "      <td>Y</td>\n",
       "    </tr>\n",
       "    <tr>\n",
       "      <th>4</th>\n",
       "      <td>LP001008</td>\n",
       "      <td>Male</td>\n",
       "      <td>No</td>\n",
       "      <td>0</td>\n",
       "      <td>Graduate</td>\n",
       "      <td>No</td>\n",
       "      <td>6000</td>\n",
       "      <td>0.0</td>\n",
       "      <td>141.0</td>\n",
       "      <td>360.0</td>\n",
       "      <td>1.0</td>\n",
       "      <td>Urban</td>\n",
       "      <td>Y</td>\n",
       "    </tr>\n",
       "  </tbody>\n",
       "</table>\n",
       "</div>"
      ],
      "text/plain": [
       "    Loan_ID Gender Married Dependents     Education Self_Employed  \\\n",
       "0  LP001002   Male      No          0      Graduate            No   \n",
       "1  LP001003   Male     Yes          1      Graduate            No   \n",
       "2  LP001005   Male     Yes          0      Graduate           Yes   \n",
       "3  LP001006   Male     Yes          0  Not Graduate            No   \n",
       "4  LP001008   Male      No          0      Graduate            No   \n",
       "\n",
       "   ApplicantIncome  CoapplicantIncome  LoanAmount  Loan_Amount_Term  \\\n",
       "0             5849                0.0         NaN             360.0   \n",
       "1             4583             1508.0       128.0             360.0   \n",
       "2             3000                0.0        66.0             360.0   \n",
       "3             2583             2358.0       120.0             360.0   \n",
       "4             6000                0.0       141.0             360.0   \n",
       "\n",
       "   Credit_History Property_Area Loan_Status  \n",
       "0             1.0         Urban           Y  \n",
       "1             1.0         Rural           N  \n",
       "2             1.0         Urban           Y  \n",
       "3             1.0         Urban           Y  \n",
       "4             1.0         Urban           Y  "
      ]
     },
     "execution_count": 9,
     "metadata": {},
     "output_type": "execute_result"
    }
   ],
   "source": [
    "df_train.head()"
   ]
  },
  {
   "cell_type": "code",
   "execution_count": 10,
   "id": "4c9ae981",
   "metadata": {},
   "outputs": [
    {
     "name": "stdout",
     "output_type": "stream",
     "text": [
      "Train dataset(row, col): (614, 13)\n",
      "Test dataset(row, col): (367, 12)\n"
     ]
    }
   ],
   "source": [
    "print(f\"Train dataset(row, col): {df_train.shape}\")\n",
    "print(f\"Test dataset(row, col): {df_test.shape}\")"
   ]
  },
  {
   "cell_type": "code",
   "execution_count": 11,
   "id": "7e221476",
   "metadata": {},
   "outputs": [
    {
     "name": "stdout",
     "output_type": "stream",
     "text": [
      "<class 'pandas.core.frame.DataFrame'>\n",
      "RangeIndex: 614 entries, 0 to 613\n",
      "Data columns (total 13 columns):\n",
      " #   Column             Non-Null Count  Dtype  \n",
      "---  ------             --------------  -----  \n",
      " 0   Loan_ID            614 non-null    object \n",
      " 1   Gender             601 non-null    object \n",
      " 2   Married            611 non-null    object \n",
      " 3   Dependents         599 non-null    object \n",
      " 4   Education          614 non-null    object \n",
      " 5   Self_Employed      582 non-null    object \n",
      " 6   ApplicantIncome    614 non-null    int64  \n",
      " 7   CoapplicantIncome  614 non-null    float64\n",
      " 8   LoanAmount         592 non-null    float64\n",
      " 9   Loan_Amount_Term   600 non-null    float64\n",
      " 10  Credit_History     564 non-null    float64\n",
      " 11  Property_Area      614 non-null    object \n",
      " 12  Loan_Status        614 non-null    object \n",
      "dtypes: float64(4), int64(1), object(8)\n",
      "memory usage: 62.5+ KB\n",
      "<class 'pandas.core.frame.DataFrame'>\n",
      "RangeIndex: 367 entries, 0 to 366\n",
      "Data columns (total 12 columns):\n",
      " #   Column             Non-Null Count  Dtype  \n",
      "---  ------             --------------  -----  \n",
      " 0   Loan_ID            367 non-null    object \n",
      " 1   Gender             356 non-null    object \n",
      " 2   Married            367 non-null    object \n",
      " 3   Dependents         357 non-null    object \n",
      " 4   Education          367 non-null    object \n",
      " 5   Self_Employed      344 non-null    object \n",
      " 6   ApplicantIncome    367 non-null    int64  \n",
      " 7   CoapplicantIncome  367 non-null    int64  \n",
      " 8   LoanAmount         362 non-null    float64\n",
      " 9   Loan_Amount_Term   361 non-null    float64\n",
      " 10  Credit_History     338 non-null    float64\n",
      " 11  Property_Area      367 non-null    object \n",
      "dtypes: float64(3), int64(2), object(7)\n",
      "memory usage: 34.5+ KB\n"
     ]
    }
   ],
   "source": [
    "## Column informations\n",
    "df_train.info()\n",
    "df_test.info()"
   ]
  },
  {
   "cell_type": "code",
   "execution_count": 12,
   "id": "6b83124f",
   "metadata": {},
   "outputs": [
    {
     "data": {
      "text/html": [
       "<div>\n",
       "<style scoped>\n",
       "    .dataframe tbody tr th:only-of-type {\n",
       "        vertical-align: middle;\n",
       "    }\n",
       "\n",
       "    .dataframe tbody tr th {\n",
       "        vertical-align: top;\n",
       "    }\n",
       "\n",
       "    .dataframe thead th {\n",
       "        text-align: right;\n",
       "    }\n",
       "</style>\n",
       "<table border=\"1\" class=\"dataframe\">\n",
       "  <thead>\n",
       "    <tr style=\"text-align: right;\">\n",
       "      <th></th>\n",
       "      <th>ApplicantIncome</th>\n",
       "      <th>CoapplicantIncome</th>\n",
       "      <th>LoanAmount</th>\n",
       "      <th>Loan_Amount_Term</th>\n",
       "      <th>Credit_History</th>\n",
       "    </tr>\n",
       "  </thead>\n",
       "  <tbody>\n",
       "    <tr>\n",
       "      <th>count</th>\n",
       "      <td>614.000000</td>\n",
       "      <td>614.000000</td>\n",
       "      <td>592.000000</td>\n",
       "      <td>600.00000</td>\n",
       "      <td>564.000000</td>\n",
       "    </tr>\n",
       "    <tr>\n",
       "      <th>mean</th>\n",
       "      <td>5403.459283</td>\n",
       "      <td>1621.245798</td>\n",
       "      <td>146.412162</td>\n",
       "      <td>342.00000</td>\n",
       "      <td>0.842199</td>\n",
       "    </tr>\n",
       "    <tr>\n",
       "      <th>std</th>\n",
       "      <td>6109.041673</td>\n",
       "      <td>2926.248369</td>\n",
       "      <td>85.587325</td>\n",
       "      <td>65.12041</td>\n",
       "      <td>0.364878</td>\n",
       "    </tr>\n",
       "    <tr>\n",
       "      <th>min</th>\n",
       "      <td>150.000000</td>\n",
       "      <td>0.000000</td>\n",
       "      <td>9.000000</td>\n",
       "      <td>12.00000</td>\n",
       "      <td>0.000000</td>\n",
       "    </tr>\n",
       "    <tr>\n",
       "      <th>25%</th>\n",
       "      <td>2877.500000</td>\n",
       "      <td>0.000000</td>\n",
       "      <td>100.000000</td>\n",
       "      <td>360.00000</td>\n",
       "      <td>1.000000</td>\n",
       "    </tr>\n",
       "    <tr>\n",
       "      <th>50%</th>\n",
       "      <td>3812.500000</td>\n",
       "      <td>1188.500000</td>\n",
       "      <td>128.000000</td>\n",
       "      <td>360.00000</td>\n",
       "      <td>1.000000</td>\n",
       "    </tr>\n",
       "    <tr>\n",
       "      <th>75%</th>\n",
       "      <td>5795.000000</td>\n",
       "      <td>2297.250000</td>\n",
       "      <td>168.000000</td>\n",
       "      <td>360.00000</td>\n",
       "      <td>1.000000</td>\n",
       "    </tr>\n",
       "    <tr>\n",
       "      <th>max</th>\n",
       "      <td>81000.000000</td>\n",
       "      <td>41667.000000</td>\n",
       "      <td>700.000000</td>\n",
       "      <td>480.00000</td>\n",
       "      <td>1.000000</td>\n",
       "    </tr>\n",
       "  </tbody>\n",
       "</table>\n",
       "</div>"
      ],
      "text/plain": [
       "       ApplicantIncome  CoapplicantIncome  LoanAmount  Loan_Amount_Term  \\\n",
       "count       614.000000         614.000000  592.000000         600.00000   \n",
       "mean       5403.459283        1621.245798  146.412162         342.00000   \n",
       "std        6109.041673        2926.248369   85.587325          65.12041   \n",
       "min         150.000000           0.000000    9.000000          12.00000   \n",
       "25%        2877.500000           0.000000  100.000000         360.00000   \n",
       "50%        3812.500000        1188.500000  128.000000         360.00000   \n",
       "75%        5795.000000        2297.250000  168.000000         360.00000   \n",
       "max       81000.000000       41667.000000  700.000000         480.00000   \n",
       "\n",
       "       Credit_History  \n",
       "count      564.000000  \n",
       "mean         0.842199  \n",
       "std          0.364878  \n",
       "min          0.000000  \n",
       "25%          1.000000  \n",
       "50%          1.000000  \n",
       "75%          1.000000  \n",
       "max          1.000000  "
      ]
     },
     "execution_count": 12,
     "metadata": {},
     "output_type": "execute_result"
    }
   ],
   "source": [
    "# Stats summary\n",
    "df_train.describe()"
   ]
  },
  {
   "cell_type": "code",
   "execution_count": 13,
   "id": "cfed4056",
   "metadata": {},
   "outputs": [
    {
     "data": {
      "text/html": [
       "<div>\n",
       "<style scoped>\n",
       "    .dataframe tbody tr th:only-of-type {\n",
       "        vertical-align: middle;\n",
       "    }\n",
       "\n",
       "    .dataframe tbody tr th {\n",
       "        vertical-align: top;\n",
       "    }\n",
       "\n",
       "    .dataframe thead th {\n",
       "        text-align: right;\n",
       "    }\n",
       "</style>\n",
       "<table border=\"1\" class=\"dataframe\">\n",
       "  <thead>\n",
       "    <tr style=\"text-align: right;\">\n",
       "      <th></th>\n",
       "      <th>ApplicantIncome</th>\n",
       "      <th>CoapplicantIncome</th>\n",
       "      <th>LoanAmount</th>\n",
       "      <th>Loan_Amount_Term</th>\n",
       "      <th>Credit_History</th>\n",
       "    </tr>\n",
       "  </thead>\n",
       "  <tbody>\n",
       "    <tr>\n",
       "      <th>count</th>\n",
       "      <td>367.000000</td>\n",
       "      <td>367.000000</td>\n",
       "      <td>362.000000</td>\n",
       "      <td>361.000000</td>\n",
       "      <td>338.000000</td>\n",
       "    </tr>\n",
       "    <tr>\n",
       "      <th>mean</th>\n",
       "      <td>4805.599455</td>\n",
       "      <td>1569.577657</td>\n",
       "      <td>136.132597</td>\n",
       "      <td>342.537396</td>\n",
       "      <td>0.825444</td>\n",
       "    </tr>\n",
       "    <tr>\n",
       "      <th>std</th>\n",
       "      <td>4910.685399</td>\n",
       "      <td>2334.232099</td>\n",
       "      <td>61.366652</td>\n",
       "      <td>65.156643</td>\n",
       "      <td>0.380150</td>\n",
       "    </tr>\n",
       "    <tr>\n",
       "      <th>min</th>\n",
       "      <td>0.000000</td>\n",
       "      <td>0.000000</td>\n",
       "      <td>28.000000</td>\n",
       "      <td>6.000000</td>\n",
       "      <td>0.000000</td>\n",
       "    </tr>\n",
       "    <tr>\n",
       "      <th>25%</th>\n",
       "      <td>2864.000000</td>\n",
       "      <td>0.000000</td>\n",
       "      <td>100.250000</td>\n",
       "      <td>360.000000</td>\n",
       "      <td>1.000000</td>\n",
       "    </tr>\n",
       "    <tr>\n",
       "      <th>50%</th>\n",
       "      <td>3786.000000</td>\n",
       "      <td>1025.000000</td>\n",
       "      <td>125.000000</td>\n",
       "      <td>360.000000</td>\n",
       "      <td>1.000000</td>\n",
       "    </tr>\n",
       "    <tr>\n",
       "      <th>75%</th>\n",
       "      <td>5060.000000</td>\n",
       "      <td>2430.500000</td>\n",
       "      <td>158.000000</td>\n",
       "      <td>360.000000</td>\n",
       "      <td>1.000000</td>\n",
       "    </tr>\n",
       "    <tr>\n",
       "      <th>max</th>\n",
       "      <td>72529.000000</td>\n",
       "      <td>24000.000000</td>\n",
       "      <td>550.000000</td>\n",
       "      <td>480.000000</td>\n",
       "      <td>1.000000</td>\n",
       "    </tr>\n",
       "  </tbody>\n",
       "</table>\n",
       "</div>"
      ],
      "text/plain": [
       "       ApplicantIncome  CoapplicantIncome  LoanAmount  Loan_Amount_Term  \\\n",
       "count       367.000000         367.000000  362.000000        361.000000   \n",
       "mean       4805.599455        1569.577657  136.132597        342.537396   \n",
       "std        4910.685399        2334.232099   61.366652         65.156643   \n",
       "min           0.000000           0.000000   28.000000          6.000000   \n",
       "25%        2864.000000           0.000000  100.250000        360.000000   \n",
       "50%        3786.000000        1025.000000  125.000000        360.000000   \n",
       "75%        5060.000000        2430.500000  158.000000        360.000000   \n",
       "max       72529.000000       24000.000000  550.000000        480.000000   \n",
       "\n",
       "       Credit_History  \n",
       "count      338.000000  \n",
       "mean         0.825444  \n",
       "std          0.380150  \n",
       "min          0.000000  \n",
       "25%          1.000000  \n",
       "50%          1.000000  \n",
       "75%          1.000000  \n",
       "max          1.000000  "
      ]
     },
     "execution_count": 13,
     "metadata": {},
     "output_type": "execute_result"
    }
   ],
   "source": [
    "# Stats summary\n",
    "df_test.describe()"
   ]
  },
  {
   "cell_type": "code",
   "execution_count": 14,
   "id": "7011d1b1",
   "metadata": {},
   "outputs": [
    {
     "data": {
      "text/plain": [
       "Credit_History       50\n",
       "Self_Employed        32\n",
       "LoanAmount           22\n",
       "Dependents           15\n",
       "Loan_Amount_Term     14\n",
       "Gender               13\n",
       "Married               3\n",
       "Loan_ID               0\n",
       "Education             0\n",
       "ApplicantIncome       0\n",
       "CoapplicantIncome     0\n",
       "Property_Area         0\n",
       "Loan_Status           0\n",
       "dtype: int64"
      ]
     },
     "execution_count": 14,
     "metadata": {},
     "output_type": "execute_result"
    }
   ],
   "source": [
    "df_train.isnull().sum().sort_values(ascending=False)"
   ]
  },
  {
   "cell_type": "code",
   "execution_count": 15,
   "id": "82f2c2f1",
   "metadata": {},
   "outputs": [],
   "source": [
    "# Lets remove the Loan_ID Column which is not required in any instance of this project\n",
    "df_train.drop('Loan_ID',axis=1,inplace=True)\n",
    "df_test.drop('Loan_ID',axis=1,inplace=True)"
   ]
  },
  {
   "cell_type": "code",
   "execution_count": 16,
   "id": "39d0d008",
   "metadata": {},
   "outputs": [
    {
     "name": "stdout",
     "output_type": "stream",
     "text": [
      "Credit_History:\n",
      "1.0    475\n",
      "0.0     89\n",
      "Name: Credit_History, dtype: int64\n",
      " --------------------------------------------------\n",
      "Self_Employed:\n",
      "No     500\n",
      "Yes     82\n",
      "Name: Self_Employed, dtype: int64\n",
      " --------------------------------------------------\n",
      "LoanAmount:\n",
      "120.0    20\n",
      "110.0    17\n",
      "100.0    15\n",
      "160.0    12\n",
      "187.0    12\n",
      "         ..\n",
      "240.0     1\n",
      "214.0     1\n",
      "59.0      1\n",
      "166.0     1\n",
      "253.0     1\n",
      "Name: LoanAmount, Length: 203, dtype: int64\n",
      " --------------------------------------------------\n",
      "Dependents:\n",
      "0     345\n",
      "1     102\n",
      "2     101\n",
      "3+     51\n",
      "Name: Dependents, dtype: int64\n",
      " --------------------------------------------------\n",
      "Loan_Amount_Term:\n",
      "360.0    512\n",
      "180.0     44\n",
      "480.0     15\n",
      "300.0     13\n",
      "240.0      4\n",
      "84.0       4\n",
      "120.0      3\n",
      "60.0       2\n",
      "36.0       2\n",
      "12.0       1\n",
      "Name: Loan_Amount_Term, dtype: int64\n",
      " --------------------------------------------------\n",
      "Gender:\n",
      "Male      489\n",
      "Female    112\n",
      "Name: Gender, dtype: int64\n",
      " --------------------------------------------------\n",
      "Married:\n",
      "Yes    398\n",
      "No     213\n",
      "Name: Married, dtype: int64\n",
      " --------------------------------------------------\n",
      "After filling null values\n",
      " ##################################################\n"
     ]
    },
    {
     "data": {
      "text/plain": [
       "Gender               0\n",
       "Married              0\n",
       "Dependents           0\n",
       "Education            0\n",
       "Self_Employed        0\n",
       "ApplicantIncome      0\n",
       "CoapplicantIncome    0\n",
       "LoanAmount           0\n",
       "Loan_Amount_Term     0\n",
       "Credit_History       0\n",
       "Property_Area        0\n",
       "Loan_Status          0\n",
       "dtype: int64"
      ]
     },
     "execution_count": 16,
     "metadata": {},
     "output_type": "execute_result"
    }
   ],
   "source": [
    "# Columns with null values \n",
    "\n",
    "null_cols = ['Credit_History', 'Self_Employed', 'LoanAmount','Dependents', 'Loan_Amount_Term', 'Gender', 'Married']\n",
    "\n",
    "\n",
    "# Filling the null values of the columns with the mode value\n",
    "\n",
    "for col in null_cols:\n",
    "    print(f\"{col}:\\n{df_train[col].value_counts()}\\n\",\"-\"*50)\n",
    "    df_train[col] = df_train[col].fillna(\n",
    "    df_train[col].dropna().mode().values[0] )\n",
    "\n",
    "\n",
    "# After filling the null values \n",
    "\n",
    "print(f\"After filling null values\\n\",'#'*50)\n",
    "df_train.isnull().sum().sort_values(ascending=False)"
   ]
  },
  {
   "cell_type": "code",
   "execution_count": 17,
   "id": "3d93b3cf",
   "metadata": {},
   "outputs": [],
   "source": [
    "# Numerical values \n",
    "num = df_train.select_dtypes('number').columns.to_list()\n",
    "\n",
    "#Categorical values \n",
    "cat = df_train.select_dtypes('object').columns.to_list()\n",
    "\n",
    "#Dataset \n",
    "loan_num = df_train[num]\n",
    "loan_cat = df_train[cat]"
   ]
  },
  {
   "cell_type": "markdown",
   "id": "fa863021",
   "metadata": {},
   "source": [
    "# VISUALISATION"
   ]
  },
  {
   "cell_type": "markdown",
   "id": "89fbb9aa",
   "metadata": {},
   "source": [
    "# Univariate Visual Analysis"
   ]
  },
  {
   "cell_type": "markdown",
   "id": "a84810c0",
   "metadata": {},
   "source": [
    "Target Variable - Loan Status\n",
    "We will start first with an independent variable which is our target variable as well. We will analyse this categorical variable using a bar chart as shown below. The bar chart shows that loan of 422 ( around 69 % ) people out of 614 was approved"
   ]
  },
  {
   "cell_type": "code",
   "execution_count": 18,
   "id": "c833d6f8",
   "metadata": {},
   "outputs": [
    {
     "name": "stdout",
     "output_type": "stream",
     "text": [
      "Y    422\n",
      "N    192\n",
      "Name: Loan_Status, dtype: int64\n"
     ]
    },
    {
     "data": {
      "image/png": "[encoded data removed]",
      "text/plain": [
       "<Figure size 360x360 with 1 Axes>"
      ]
     },
     "metadata": {
      "needs_background": "light"
     },
     "output_type": "display_data"
    }
   ],
   "source": [
    "## Lets plot the Loan_Status columns first to know the propotion of accepted proposals and rejected ones \n",
    "\n",
    "print(df_train[cat[-1]].value_counts())\n",
    "plt.figure(figsize=(5,5))\n",
    "sns.set(style=\"whitegrid\")\n",
    "plt.title('Loan status')\n",
    "sns.countplot(x=df_train[cat[-1]])\n",
    "plt.show()"
   ]
  },
  {
   "cell_type": "markdown",
   "id": "983f741c",
   "metadata": {},
   "source": [
    "# Predictor Variables\n",
    "There are 3 types of Independent Variables: Categorical, Ordinal & Numerical.\n",
    "\n",
    "Categorical Features :\n",
    "Gender\n",
    "Marrital Status\n",
    "Employment Type\n",
    "Credit History\n",
    "\n",
    "It can be inferred from the below bar plots that in our observed data:\n",
    "80% of loan applicants are male in the training dataset.\n",
    "Nearly 70% are married\n",
    "About 75% of loan applicants are graduates\n",
    "Nearly 85–90% loan applicants are self-employed\n",
    "The loan has been approved for more than 65% of applicants."
   ]
  },
  {
   "cell_type": "code",
   "execution_count": 19,
   "id": "f4fbed82",
   "metadata": {},
   "outputs": [
    {
     "data": {
      "image/png": "[encoded data removed]",
      "text/plain": [
       "<Figure size 1440x720 with 4 Axes>"
      ]
     },
     "metadata": {},
     "output_type": "display_data"
    }
   ],
   "source": [
    "plt.subplot(221)\n",
    "df_train['Gender'].value_counts(normalize=True).plot.bar(figsize=(20,10), title= 'Gender') \n",
    "plt.subplot(222) \n",
    "df_train['Married'].value_counts(normalize=True).plot.bar(title= 'Married') \n",
    "plt.subplot(223) \n",
    "df_train['Self_Employed'].value_counts(normalize=True).plot.bar(title= 'Self_Employed') \n",
    "plt.subplot(224) \n",
    "df_train['Credit_History'].value_counts(normalize=True).plot.bar(title= 'Credit_History') \n",
    "plt.show()"
   ]
  },
  {
   "cell_type": "markdown",
   "id": "7e6dbba1",
   "metadata": {},
   "source": [
    "# Ordinal Features\n",
    "Number of Dependents,\n",
    "Education Level,\n",
    "Property or Area Background.\n",
    "\n",
    "Our Visual Analysis below, indecates that:\n",
    "Almost 58% of the applicants have no dependents.\n",
    "Highest number of applicants are from Semi Urban areas, followed by urban areas.\n",
    "Around 80 % of the applicants are Graduate."
   ]
  },
  {
   "cell_type": "code",
   "execution_count": 20,
   "id": "ded2985e",
   "metadata": {},
   "outputs": [
    {
     "data": {
      "image/png": "[encoded data removed]",
      "text/plain": [
       "<Figure size 1728x432 with 3 Axes>"
      ]
     },
     "metadata": {},
     "output_type": "display_data"
    }
   ],
   "source": [
    "plt.subplot(131)\n",
    "df_train['Dependents'].value_counts(normalize=True).plot.bar(figsize=(24,6),title='Dependents') \n",
    "plt.subplot(132)\n",
    "df_train['Education'].value_counts(normalize=True).plot.bar(title= 'Education') \n",
    "plt.subplot(133) \n",
    "df_train['Property_Area'].value_counts(normalize=True).plot.bar(title= 'Property_Area') \n",
    "plt.show()"
   ]
  },
  {
   "cell_type": "code",
   "execution_count": 21,
   "id": "4e56421e",
   "metadata": {},
   "outputs": [
    {
     "data": {
      "image/png": "[encoded data removed]",
      "text/plain": [
       "<Figure size 1152x360 with 2 Axes>"
      ]
     },
     "metadata": {},
     "output_type": "display_data"
    }
   ],
   "source": [
    "plt.subplot(121) \n",
    "sns.distplot(df_train['ApplicantIncome']); \n",
    "plt.subplot(122) \n",
    "df_train['ApplicantIncome'].plot.box(figsize=(16,5)) \n",
    "plt.show()"
   ]
  },
  {
   "cell_type": "code",
   "execution_count": 22,
   "id": "fd94b319",
   "metadata": {},
   "outputs": [
    {
     "data": {
      "image/png": "[encoded data removed]",
      "text/plain": [
       "<Figure size 1152x360 with 2 Axes>"
      ]
     },
     "metadata": {},
     "output_type": "display_data"
    }
   ],
   "source": [
    "plt.subplot(121)\n",
    "sns.distplot(df_train['LoanAmount']); \n",
    "plt.subplot(122)\n",
    "df_train['LoanAmount'].plot.box(figsize=(16,5)) \n",
    "plt.show()"
   ]
  },
  {
   "cell_type": "markdown",
   "id": "7745aad6",
   "metadata": {},
   "source": [
    "It can be inferred that most of the data in Applicant income is towards left which means it is not normally distributed. The boxplot confirms the presence of outliers. This can be attributed to income disparity in the society."
   ]
  },
  {
   "cell_type": "code",
   "execution_count": 23,
   "id": "385a04b8",
   "metadata": {},
   "outputs": [
    {
     "data": {
      "image/png": "[encoded data removed]",
      "text/plain": [
       "<Figure size 1152x360 with 2 Axes>"
      ]
     },
     "metadata": {},
     "output_type": "display_data"
    }
   ],
   "source": [
    "plt.subplot(121)\n",
    "sns.distplot(df_train['CoapplicantIncome']); \n",
    "plt.subplot(122)\n",
    "df_train['CoapplicantIncome'].plot.box(figsize=(16,5)) \n",
    "plt.show()"
   ]
  },
  {
   "cell_type": "markdown",
   "id": "4f2283a8",
   "metadata": {},
   "source": [
    "CoapplicantIncome is lesser than applicantIncome and is within the 5000–15000, again with some outliers"
   ]
  },
  {
   "cell_type": "markdown",
   "id": "c9e6c293",
   "metadata": {},
   "source": [
    "# Bivariate Analysis\n",
    "Bivariate analysis is finding some kind of empirical relationship between two variables. Specifically the dependent vs independent Variables\n",
    "\n",
    "Categorical Independent Vs Target\n",
    "Gender Vs Loan_Status"
   ]
  },
  {
   "cell_type": "code",
   "execution_count": 24,
   "id": "400291f9",
   "metadata": {},
   "outputs": [
    {
     "data": {
      "text/plain": [
       "<AxesSubplot:xlabel='Gender'>"
      ]
     },
     "execution_count": 24,
     "metadata": {},
     "output_type": "execute_result"
    },
    {
     "data": {
      "image/png": "[encoded data removed]",
      "text/plain": [
       "<Figure size 288x288 with 1 Axes>"
      ]
     },
     "metadata": {},
     "output_type": "display_data"
    }
   ],
   "source": [
    "Gender=pd.crosstab(df_train['Gender'],df_train['Loan_Status']) \n",
    "Gender.div(Gender.sum(1).astype(float), axis=0).plot(kind=\"bar\",stacked=True, figsize=(4,4))\n"
   ]
  },
  {
   "cell_type": "markdown",
   "id": "559bd3f7",
   "metadata": {},
   "source": [
    "There is not a substantial difference between male and female approval rates."
   ]
  },
  {
   "cell_type": "code",
   "execution_count": 25,
   "id": "595e1646",
   "metadata": {},
   "outputs": [
    {
     "data": {
      "image/png": "[encoded data removed]",
      "text/plain": [
       "<Figure size 288x288 with 1 Axes>"
      ]
     },
     "metadata": {},
     "output_type": "display_data"
    },
    {
     "data": {
      "image/png": "[encoded data removed]",
      "text/plain": [
       "<Figure size 288x288 with 1 Axes>"
      ]
     },
     "metadata": {},
     "output_type": "display_data"
    },
    {
     "data": {
      "image/png": "[encoded data removed]",
      "text/plain": [
       "<Figure size 288x288 with 1 Axes>"
      ]
     },
     "metadata": {},
     "output_type": "display_data"
    },
    {
     "data": {
      "image/png": "[encoded data removed]",
      "text/plain": [
       "<Figure size 288x288 with 1 Axes>"
      ]
     },
     "metadata": {},
     "output_type": "display_data"
    }
   ],
   "source": [
    "Married=pd.crosstab(df_train['Married'],df_train['Loan_Status']) \n",
    "Dependents=pd.crosstab(df_train['Dependents'],df_train['Loan_Status']) \n",
    "Education=pd.crosstab(df_train['Education'],df_train['Loan_Status']) \n",
    "Self_Employed=pd.crosstab(df_train['Self_Employed'],df_train['Loan_Status']) \n",
    "Married.div(Married.sum(1).astype(float), axis=0).plot(kind=\"bar\",stacked=True, figsize=(4,4), title='MARRIED VS LOAN STATUS') \n",
    "plt.show(38) \n",
    "Dependents.div(Dependents.sum(1).astype(float), axis=0).plot(kind=\"bar\", stacked=True,figsize=(4,4),title='DEPENDENT VS LOAN STATUS')\n",
    "plt.show(39) \n",
    "Education.div(Education.sum(1).astype(float), axis=0).plot(kind=\"bar\", stacked=True ,figsize=(4,4),title='EDUCATION VS LOAN STATUS') \n",
    "plt.show(40) \n",
    "Self_Employed.div(Self_Employed.sum(1).astype(float),axis=0).plot(kind=\"bar\",stacked=True ,figsize=(4,4),title='EMPLOYED VS LOAN STATUS')\n",
    "plt.show(41)"
   ]
  },
  {
   "cell_type": "markdown",
   "id": "73787900",
   "metadata": {},
   "source": [
    "# There is not a substantial difference between male and female approval rates.\n"
   ]
  },
  {
   "cell_type": "markdown",
   "id": "4d546db0",
   "metadata": {},
   "source": [
    "# Married applicants have a slightly higher chances of loan approval."
   ]
  },
  {
   "cell_type": "markdown",
   "id": "14b43d0b",
   "metadata": {},
   "source": [
    "# Applicants with no dependents or 2 dependents have higher chances of approval. But this does not correlate well."
   ]
  },
  {
   "cell_type": "markdown",
   "id": "e551ad71",
   "metadata": {},
   "source": [
    "# Graduates have higher chance of loan approval compared to non-graduates."
   ]
  },
  {
   "cell_type": "markdown",
   "id": "f8ce78c0",
   "metadata": {},
   "source": [
    "# Self_Employed employees have slightly lower chances of loan approval but the situation is not that bad."
   ]
  },
  {
   "cell_type": "markdown",
   "id": "4f6d3e74",
   "metadata": {},
   "source": [
    "# It seems people with credit history as 1 are more likely to get their loans approved"
   ]
  },
  {
   "cell_type": "markdown",
   "id": "da4af9b3",
   "metadata": {},
   "source": [
    "# Propotion of loans getting approved in semiurban area is higher as compared to that in rural or urban areas."
   ]
  },
  {
   "cell_type": "code",
   "execution_count": 26,
   "id": "c26ed0a5",
   "metadata": {},
   "outputs": [
    {
     "data": {
      "image/png": "[encoded data removed]",
      "text/plain": [
       "<Figure size 288x288 with 1 Axes>"
      ]
     },
     "metadata": {},
     "output_type": "display_data"
    },
    {
     "data": {
      "image/png": "[encoded data removed]",
      "text/plain": [
       "<Figure size 432x288 with 1 Axes>"
      ]
     },
     "metadata": {},
     "output_type": "display_data"
    }
   ],
   "source": [
    "Credit_History=pd.crosstab(df_train['Credit_History'],df_train['Loan_Status']) \n",
    "Property_Area=pd.crosstab(df_train['Property_Area'],df_train['Loan_Status']) \n",
    "Credit_History.div(Credit_History.sum(1).astype(float), axis=0).plot(kind=\"bar\", stacked=True, figsize=(4,4),title='CREDIT HISTORY VS LOAN STATUS') \n",
    "plt.show(121) \n",
    "Property_Area.div(Property_Area.sum(1).astype(float), axis=0).plot(kind=\"bar\", stacked=True,title='PROPERTY AREA VS LAON STATUS') \n",
    "plt.show(122)\n"
   ]
  },
  {
   "cell_type": "code",
   "execution_count": null,
   "id": "a072eab5",
   "metadata": {},
   "outputs": [],
   "source": []
  },
  {
   "cell_type": "code",
   "execution_count": null,
   "id": "4ed2476c",
   "metadata": {},
   "outputs": [],
   "source": []
  },
  {
   "cell_type": "code",
   "execution_count": null,
   "id": "30d27761",
   "metadata": {},
   "outputs": [],
   "source": []
  },
  {
   "cell_type": "markdown",
   "id": "aa4bee91",
   "metadata": {},
   "source": [
    "# Numerical Independent vs Target"
   ]
  },
  {
   "cell_type": "code",
   "execution_count": 27,
   "id": "5d8ff85d",
   "metadata": {},
   "outputs": [
    {
     "data": {
      "text/plain": [
       "Text(0.5, 1.0, 'APPLICANT INCOME VS LOAN STATUS')"
      ]
     },
     "execution_count": 27,
     "metadata": {},
     "output_type": "execute_result"
    },
    {
     "data": {
      "image/png": "[encoded data removed]",
      "text/plain": [
       "<Figure size 432x288 with 1 Axes>"
      ]
     },
     "metadata": {},
     "output_type": "display_data"
    }
   ],
   "source": [
    "df_train.groupby('Loan_Status')['ApplicantIncome'].mean().plot.bar(width=0.4)\n",
    "plt.title('APPLICANT INCOME VS LOAN STATUS')"
   ]
  },
  {
   "cell_type": "markdown",
   "id": "a52e9f82",
   "metadata": {},
   "source": [
    "We tried to find the mean income of people for which the loan has been approved vs the mean income of people for which the loan has not been approved but we don't see any changes in the mean income. So we make bins for the applicant income variable based on the values in this and analyze the corresponding loan status for each bin"
   ]
  },
  {
   "cell_type": "code",
   "execution_count": 28,
   "id": "c655ae5b",
   "metadata": {},
   "outputs": [],
   "source": [
    "bins= [0,2500,4000,6000,81000]\n",
    "group= ['Low', 'Average', 'High', 'Very high']\n",
    "df_train['Applicant_Income_bin']=pd.cut(df_train['ApplicantIncome'],bins,labels=group)"
   ]
  },
  {
   "cell_type": "code",
   "execution_count": 29,
   "id": "26744b97",
   "metadata": {},
   "outputs": [
    {
     "data": {
      "image/png": "[encoded data removed]",
      "text/plain": [
       "<Figure size 432x288 with 1 Axes>"
      ]
     },
     "metadata": {},
     "output_type": "display_data"
    }
   ],
   "source": [
    "Applicant_Income_bin=pd.crosstab(df_train['Applicant_Income_bin'],df_train['Loan_Status']) \n",
    "Applicant_Income_bin.div(Applicant_Income_bin.sum(1).astype(float), axis=0).plot(kind=\"bar\", stacked=True,width=0.8, title='APPLICANT INCOME VS LOAN STATUS') \n",
    "plt.xlabel('ApplicantIncome') \n",
    "P = plt.ylabel('Percentage')"
   ]
  },
  {
   "cell_type": "markdown",
   "id": "72aa9013",
   "metadata": {},
   "source": [
    "It can be infered that Applicant income does not affect the chances of loan approval which contradicts our hypothesis in which we assumed that if the applicant income is high, the chances of loan approval will also be high."
   ]
  },
  {
   "cell_type": "code",
   "execution_count": 30,
   "id": "b54cd609",
   "metadata": {},
   "outputs": [],
   "source": [
    "bins= [2500,4000,6000,81000]\n",
    "group= ['Low', 'Average', 'High']\n",
    "df_train['Coapplicant_Income_bin']=pd.cut(df_train['CoapplicantIncome'],bins,labels=group)"
   ]
  },
  {
   "cell_type": "code",
   "execution_count": 31,
   "id": "8c287301",
   "metadata": {},
   "outputs": [
    {
     "data": {
      "image/png": "[encoded data removed]",
      "text/plain": [
       "<Figure size 432x288 with 1 Axes>"
      ]
     },
     "metadata": {},
     "output_type": "display_data"
    }
   ],
   "source": [
    "df_train['Coapplicant_Income_bin']=pd.cut(df_train['CoapplicantIncome'],bins,labels=group)\n",
    "Coapplicant_Income_bin=pd.crosstab(df_train['Coapplicant_Income_bin'],df_train['Loan_Status']) \n",
    "Coapplicant_Income_bin.div(Coapplicant_Income_bin.sum(1).astype(float), axis=0).plot(kind=\"bar\", stacked=True,width=0.8, title='COAPPLICANT INCOME VS LOAN STATUS') \n",
    "plt.xlabel('CoapplicantIncome') \n",
    "P = plt.ylabel('Percentage')"
   ]
  },
  {
   "cell_type": "markdown",
   "id": "fae0bb30",
   "metadata": {},
   "source": [
    "It shows that if the coapplicant's income is less the chances of loan approval are high. But this does not look right. The possible reason behind this may be that most of the applicants don't have any coapplicant so the coapplicant income for such applicants is 0 and hence the loan approval is not dependent on it. So we can make new variable in which we will continue the applicant's and coapplicant's income to visualize the combined effect of income on loan approval."
   ]
  },
  {
   "cell_type": "code",
   "execution_count": 32,
   "id": "b10826bb",
   "metadata": {},
   "outputs": [],
   "source": [
    "df_train['Total_Income']=df_train['ApplicantIncome']+df_train['CoapplicantIncome']"
   ]
  },
  {
   "cell_type": "code",
   "execution_count": 33,
   "id": "9897ee7d",
   "metadata": {},
   "outputs": [],
   "source": [
    "bins=[0,2500,4000,6000,81000]\n",
    "group=['Low','Average','High', 'Very high'] \n",
    "df_train['Total_Income_bin']=pd.cut(df_train['Total_Income'],bins,labels=group)"
   ]
  },
  {
   "cell_type": "code",
   "execution_count": 34,
   "id": "63f5a497",
   "metadata": {},
   "outputs": [
    {
     "data": {
      "image/png": "[encoded data removed]",
      "text/plain": [
       "<Figure size 432x288 with 1 Axes>"
      ]
     },
     "metadata": {},
     "output_type": "display_data"
    }
   ],
   "source": [
    "Total_Income_bin=pd.crosstab(df_train['Total_Income_bin'],df_train['Loan_Status']) \n",
    "Total_Income_bin.div(Total_Income_bin.sum(1).astype(float), axis=0).plot(kind=\"bar\", stacked=True,width=0.8) \n",
    "plt.xlabel('Total_Income') \n",
    "P = plt.ylabel('Percentage')"
   ]
  },
  {
   "cell_type": "markdown",
   "id": "d3c532a3",
   "metadata": {},
   "source": [
    "We can see that Proportion of loans getting approved for applicants having low Total_Income is very less as compared to that of applicants with the Average, High and Very High Income."
   ]
  },
  {
   "cell_type": "code",
   "execution_count": 35,
   "id": "d18d4c01",
   "metadata": {},
   "outputs": [],
   "source": [
    "bins=[0,100,200,700]\n",
    "group=['Low','Average','High'] \n",
    "df_train['LoanAmount_bin']=pd.cut(df_train['LoanAmount'],bins,labels=group)"
   ]
  },
  {
   "cell_type": "code",
   "execution_count": 36,
   "id": "63f89c7c",
   "metadata": {},
   "outputs": [
    {
     "data": {
      "image/png": "[encoded data removed]",
      "text/plain": [
       "<Figure size 432x288 with 1 Axes>"
      ]
     },
     "metadata": {},
     "output_type": "display_data"
    }
   ],
   "source": [
    "LoanAmount_bin=pd.crosstab(df_train['LoanAmount_bin'],df_train['Loan_Status']) \n",
    "LoanAmount_bin.div(LoanAmount_bin.sum(1).astype(float), axis=0).plot(kind=\"bar\", stacked=True,title='LOAN AMOUNT VS LOAN STATUS') \n",
    "plt.xlabel('LoanAmount') \n",
    "P = plt.ylabel('Percentage')"
   ]
  },
  {
   "cell_type": "markdown",
   "id": "14df4aff",
   "metadata": {},
   "source": [
    "It can be seen that the proportion of approved loans is higher for Low and Average Loan Amount as compared to that of High Loan Amount which supports our hypothesis in which we can considered that the chances of loan approval will be high when the loan amount is less."
   ]
  },
  {
   "cell_type": "code",
   "execution_count": 37,
   "id": "9bb3a7f9",
   "metadata": {},
   "outputs": [],
   "source": [
    "df_train=df_train.drop(['Coapplicant_Income_bin','LoanAmount_bin','Total_Income_bin','Total_Income'],axis=1)\n",
    "df_train['Loan_Status'].replace('N',0, inplace=True)\n",
    "df_train['Loan_Status'].replace('Y',1,inplace=True)"
   ]
  },
  {
   "cell_type": "code",
   "execution_count": 38,
   "id": "8e0c576c",
   "metadata": {},
   "outputs": [
    {
     "name": "stdout",
     "output_type": "stream",
     "text": [
      "<class 'pandas.core.frame.DataFrame'>\n",
      "RangeIndex: 614 entries, 0 to 613\n",
      "Data columns (total 13 columns):\n",
      " #   Column                Non-Null Count  Dtype  \n",
      "---  ------                --------------  -----  \n",
      " 0   Gender                614 non-null    int64  \n",
      " 1   Married               614 non-null    int64  \n",
      " 2   Education             614 non-null    int64  \n",
      " 3   Self_Employed         614 non-null    int64  \n",
      " 4   ApplicantIncome       614 non-null    int64  \n",
      " 5   CoapplicantIncome     614 non-null    float64\n",
      " 6   LoanAmount            614 non-null    float64\n",
      " 7   Loan_Amount_Term      614 non-null    float64\n",
      " 8   Credit_History        614 non-null    float64\n",
      " 9   Property_Area         614 non-null    int64  \n",
      " 10  Loan_Status           614 non-null    int64  \n",
      " 11  Applicant_Income_bin  614 non-null    object \n",
      " 12  Dependents            614 non-null    int64  \n",
      "dtypes: float64(4), int64(8), object(1)\n",
      "memory usage: 62.5+ KB\n",
      "<class 'pandas.core.frame.DataFrame'>\n",
      "RangeIndex: 367 entries, 0 to 366\n",
      "Data columns (total 11 columns):\n",
      " #   Column             Non-Null Count  Dtype  \n",
      "---  ------             --------------  -----  \n",
      " 0   Gender             356 non-null    float64\n",
      " 1   Married            367 non-null    int64  \n",
      " 2   Education          367 non-null    int64  \n",
      " 3   Self_Employed      344 non-null    float64\n",
      " 4   ApplicantIncome    367 non-null    int64  \n",
      " 5   CoapplicantIncome  367 non-null    int64  \n",
      " 6   LoanAmount         362 non-null    float64\n",
      " 7   Loan_Amount_Term   361 non-null    float64\n",
      " 8   Credit_History     338 non-null    float64\n",
      " 9   Property_Area      367 non-null    int64  \n",
      " 10  Dependents         357 non-null    float64\n",
      "dtypes: float64(6), int64(5)\n",
      "memory usage: 31.7 KB\n",
      "None \n",
      "\n",
      " None\n"
     ]
    }
   ],
   "source": [
    "# Categorical labels\n",
    "\n",
    "to_numeric = {'Male': 1, 'Female': 2,\n",
    "'Yes': 1, 'No': 2,\n",
    "'Graduate': 1, 'Not Graduate': 2,\n",
    "'Urban': 3, 'Semiurban': 2,'Rural': 1,  \n",
    " 'low':4,'Average':3,'high':2,'very high':1,\n",
    "'3+': 3}\n",
    "\n",
    "# adding the new numeric values from the to_numeric variable to both datasets\n",
    "df_train= df_train.applymap(lambda lable: to_numeric.get(lable) if lable in to_numeric else lable)\n",
    "df_test= df_test.applymap(lambda lable: to_numeric.get(lable) if lable in to_numeric else lable)\n",
    "\n",
    "\n",
    "# converting the Dependents column\n",
    "Dependents_ = pd.to_numeric(df_train.Dependents)\n",
    "Dependents__ = pd.to_numeric(df_test.Dependents)\n",
    "\n",
    "# Droping previous dependent columns\n",
    "df_train.drop(['Dependents'], axis = 1, inplace = True)\n",
    "df_test.drop(['Dependents'], axis = 1, inplace = True)\n",
    "\n",
    "# Concating new Dependents column with datasets\n",
    "\n",
    "df_train = pd.concat([df_train, Dependents_], axis = 1)\n",
    "df_test= pd.concat([df_test, Dependents__], axis = 1)\n",
    "\n",
    "\n",
    "# Checking info of both datasets\n",
    "print(df_train.info(), \"\\n\\n\", df_test.info())"
   ]
  },
  {
   "cell_type": "code",
   "execution_count": 39,
   "id": "57723103",
   "metadata": {},
   "outputs": [
    {
     "data": {
      "text/plain": [
       "<AxesSubplot:>"
      ]
     },
     "execution_count": 39,
     "metadata": {},
     "output_type": "execute_result"
    },
    {
     "data": {
      "image/png": "[encoded data removed]",
      "text/plain": [
       "<Figure size 432x288 with 2 Axes>"
      ]
     },
     "metadata": {},
     "output_type": "display_data"
    }
   ],
   "source": [
    "# Ploting the correaltion matrix\n",
    "sns.heatmap(df_train.corr() ,cmap='cubehelix_r')"
   ]
  },
  {
   "cell_type": "code",
   "execution_count": 40,
   "id": "539a5f14",
   "metadata": {},
   "outputs": [
    {
     "data": {
      "text/html": [
       "<style type=\"text/css\">\n",
       "#T_a32b7_row0_col0, #T_a32b7_row1_col1, #T_a32b7_row2_col2, #T_a32b7_row3_col3, #T_a32b7_row4_col4, #T_a32b7_row5_col5, #T_a32b7_row6_col6, #T_a32b7_row7_col7, #T_a32b7_row8_col8, #T_a32b7_row9_col9, #T_a32b7_row10_col10, #T_a32b7_row11_col11 {\n",
       "  background-color: #b40426;\n",
       "  color: #f1f1f1;\n",
       "}\n",
       "#T_a32b7_row0_col1 {\n",
       "  background-color: #e3d9d3;\n",
       "  color: #000000;\n",
       "}\n",
       "#T_a32b7_row0_col2, #T_a32b7_row2_col0, #T_a32b7_row8_col4 {\n",
       "  background-color: #5b7ae5;\n",
       "  color: #f1f1f1;\n",
       "}\n",
       "#T_a32b7_row0_col3, #T_a32b7_row9_col10 {\n",
       "  background-color: #5d7ce6;\n",
       "  color: #f1f1f1;\n",
       "}\n",
       "#T_a32b7_row0_col4, #T_a32b7_row8_col9, #T_a32b7_row9_col8, #T_a32b7_row10_col2, #T_a32b7_row10_col7, #T_a32b7_row11_col9 {\n",
       "  background-color: #506bda;\n",
       "  color: #f1f1f1;\n",
       "}\n",
       "#T_a32b7_row0_col5, #T_a32b7_row5_col10, #T_a32b7_row11_col8 {\n",
       "  background-color: #4358cb;\n",
       "  color: #f1f1f1;\n",
       "}\n",
       "#T_a32b7_row0_col6, #T_a32b7_row4_col7, #T_a32b7_row4_col8, #T_a32b7_row6_col10, #T_a32b7_row7_col5, #T_a32b7_row10_col5 {\n",
       "  background-color: #4a63d3;\n",
       "  color: #f1f1f1;\n",
       "}\n",
       "#T_a32b7_row0_col7 {\n",
       "  background-color: #6e90f2;\n",
       "  color: #f1f1f1;\n",
       "}\n",
       "#T_a32b7_row0_col8, #T_a32b7_row4_col9, #T_a32b7_row11_col3 {\n",
       "  background-color: #4c66d6;\n",
       "  color: #f1f1f1;\n",
       "}\n",
       "#T_a32b7_row0_col9, #T_a32b7_row4_col0 {\n",
       "  background-color: #5875e1;\n",
       "  color: #f1f1f1;\n",
       "}\n",
       "#T_a32b7_row0_col10, #T_a32b7_row1_col9, #T_a32b7_row3_col8, #T_a32b7_row6_col8 {\n",
       "  background-color: #4f69d9;\n",
       "  color: #f1f1f1;\n",
       "}\n",
       "#T_a32b7_row0_col11, #T_a32b7_row3_col5, #T_a32b7_row10_col4, #T_a32b7_row10_col6 {\n",
       "  background-color: #5f7fe8;\n",
       "  color: #f1f1f1;\n",
       "}\n",
       "#T_a32b7_row1_col0 {\n",
       "  background-color: #d2dbe8;\n",
       "  color: #000000;\n",
       "}\n",
       "#T_a32b7_row1_col2 {\n",
       "  background-color: #6485ec;\n",
       "  color: #f1f1f1;\n",
       "}\n",
       "#T_a32b7_row1_col3, #T_a32b7_row8_col3, #T_a32b7_row8_col5, #T_a32b7_row9_col4, #T_a32b7_row9_col5, #T_a32b7_row10_col3 {\n",
       "  background-color: #5e7de7;\n",
       "  color: #f1f1f1;\n",
       "}\n",
       "#T_a32b7_row1_col4, #T_a32b7_row5_col0 {\n",
       "  background-color: #516ddb;\n",
       "  color: #f1f1f1;\n",
       "}\n",
       "#T_a32b7_row1_col5 {\n",
       "  background-color: #455cce;\n",
       "  color: #f1f1f1;\n",
       "}\n",
       "#T_a32b7_row1_col6, #T_a32b7_row5_col4 {\n",
       "  background-color: #4055c8;\n",
       "  color: #f1f1f1;\n",
       "}\n",
       "#T_a32b7_row1_col7 {\n",
       "  background-color: #7699f6;\n",
       "  color: #f1f1f1;\n",
       "}\n",
       "#T_a32b7_row1_col8, #T_a32b7_row6_col0 {\n",
       "  background-color: #4b64d5;\n",
       "  color: #f1f1f1;\n",
       "}\n",
       "#T_a32b7_row1_col10, #T_a32b7_row1_col11, #T_a32b7_row2_col4, #T_a32b7_row2_col6, #T_a32b7_row2_col8, #T_a32b7_row4_col3, #T_a32b7_row4_col5, #T_a32b7_row6_col2, #T_a32b7_row7_col9, #T_a32b7_row11_col0, #T_a32b7_row11_col1, #T_a32b7_row11_col7 {\n",
       "  background-color: #3b4cc0;\n",
       "  color: #f1f1f1;\n",
       "}\n",
       "#T_a32b7_row2_col1 {\n",
       "  background-color: #89acfd;\n",
       "  color: #000000;\n",
       "}\n",
       "#T_a32b7_row2_col3, #T_a32b7_row3_col7 {\n",
       "  background-color: #6180e9;\n",
       "  color: #f1f1f1;\n",
       "}\n",
       "#T_a32b7_row2_col5 {\n",
       "  background-color: #4961d2;\n",
       "  color: #f1f1f1;\n",
       "}\n",
       "#T_a32b7_row2_col7, #T_a32b7_row4_col2, #T_a32b7_row6_col9, #T_a32b7_row9_col7 {\n",
       "  background-color: #4257c9;\n",
       "  color: #f1f1f1;\n",
       "}\n",
       "#T_a32b7_row2_col9, #T_a32b7_row6_col3 {\n",
       "  background-color: #3d50c3;\n",
       "  color: #f1f1f1;\n",
       "}\n",
       "#T_a32b7_row2_col10 {\n",
       "  background-color: #3c4ec2;\n",
       "  color: #f1f1f1;\n",
       "}\n",
       "#T_a32b7_row2_col11 {\n",
       "  background-color: #9bbcff;\n",
       "  color: #000000;\n",
       "}\n",
       "#T_a32b7_row3_col0, #T_a32b7_row8_col6 {\n",
       "  background-color: #688aef;\n",
       "  color: #f1f1f1;\n",
       "}\n",
       "#T_a32b7_row3_col1, #T_a32b7_row9_col11 {\n",
       "  background-color: #8db0fe;\n",
       "  color: #000000;\n",
       "}\n",
       "#T_a32b7_row3_col2 {\n",
       "  background-color: #6b8df0;\n",
       "  color: #f1f1f1;\n",
       "}\n",
       "#T_a32b7_row3_col4 {\n",
       "  background-color: #3e51c5;\n",
       "  color: #f1f1f1;\n",
       "}\n",
       "#T_a32b7_row3_col6 {\n",
       "  background-color: #485fd1;\n",
       "  color: #f1f1f1;\n",
       "}\n",
       "#T_a32b7_row3_col9, #T_a32b7_row10_col9 {\n",
       "  background-color: #5977e3;\n",
       "  color: #f1f1f1;\n",
       "}\n",
       "#T_a32b7_row3_col10, #T_a32b7_row8_col7, #T_a32b7_row9_col2 {\n",
       "  background-color: #5572df;\n",
       "  color: #f1f1f1;\n",
       "}\n",
       "#T_a32b7_row3_col11, #T_a32b7_row7_col0 {\n",
       "  background-color: #7ea1fa;\n",
       "  color: #f1f1f1;\n",
       "}\n",
       "#T_a32b7_row4_col1 {\n",
       "  background-color: #80a3fa;\n",
       "  color: #f1f1f1;\n",
       "}\n",
       "#T_a32b7_row4_col6 {\n",
       "  background-color: #f5c4ac;\n",
       "  color: #000000;\n",
       "}\n",
       "#T_a32b7_row4_col10, #T_a32b7_row5_col8, #T_a32b7_row5_col9, #T_a32b7_row7_col2, #T_a32b7_row8_col2 {\n",
       "  background-color: #536edd;\n",
       "  color: #f1f1f1;\n",
       "}\n",
       "#T_a32b7_row4_col11 {\n",
       "  background-color: #abc8fd;\n",
       "  color: #000000;\n",
       "}\n",
       "#T_a32b7_row5_col1, #T_a32b7_row11_col2 {\n",
       "  background-color: #799cf8;\n",
       "  color: #f1f1f1;\n",
       "}\n",
       "#T_a32b7_row5_col2, #T_a32b7_row11_col10 {\n",
       "  background-color: #5673e0;\n",
       "  color: #f1f1f1;\n",
       "}\n",
       "#T_a32b7_row5_col3, #T_a32b7_row6_col7 {\n",
       "  background-color: #6282ea;\n",
       "  color: #f1f1f1;\n",
       "}\n",
       "#T_a32b7_row5_col6 {\n",
       "  background-color: #a1c0ff;\n",
       "  color: #000000;\n",
       "}\n",
       "#T_a32b7_row5_col7 {\n",
       "  background-color: #465ecf;\n",
       "  color: #f1f1f1;\n",
       "}\n",
       "#T_a32b7_row5_col11 {\n",
       "  background-color: #94b6ff;\n",
       "  color: #000000;\n",
       "}\n",
       "#T_a32b7_row6_col1, #T_a32b7_row7_col3 {\n",
       "  background-color: #6788ee;\n",
       "  color: #f1f1f1;\n",
       "}\n",
       "#T_a32b7_row6_col4 {\n",
       "  background-color: #f4c6af;\n",
       "  color: #000000;\n",
       "}\n",
       "#T_a32b7_row6_col5 {\n",
       "  background-color: #96b7ff;\n",
       "  color: #000000;\n",
       "}\n",
       "#T_a32b7_row6_col11 {\n",
       "  background-color: #b7cff9;\n",
       "  color: #000000;\n",
       "}\n",
       "#T_a32b7_row7_col1 {\n",
       "  background-color: #a7c5fe;\n",
       "  color: #000000;\n",
       "}\n",
       "#T_a32b7_row7_col4 {\n",
       "  background-color: #5470de;\n",
       "  color: #f1f1f1;\n",
       "}\n",
       "#T_a32b7_row7_col6 {\n",
       "  background-color: #7396f5;\n",
       "  color: #f1f1f1;\n",
       "}\n",
       "#T_a32b7_row7_col8, #T_a32b7_row7_col10 {\n",
       "  background-color: #4e68d8;\n",
       "  color: #f1f1f1;\n",
       "}\n",
       "#T_a32b7_row7_col11 {\n",
       "  background-color: #7295f4;\n",
       "  color: #f1f1f1;\n",
       "}\n",
       "#T_a32b7_row8_col0, #T_a32b7_row9_col3 {\n",
       "  background-color: #6687ed;\n",
       "  color: #f1f1f1;\n",
       "}\n",
       "#T_a32b7_row8_col1 {\n",
       "  background-color: #8badfd;\n",
       "  color: #000000;\n",
       "}\n",
       "#T_a32b7_row8_col10 {\n",
       "  background-color: #efcfbf;\n",
       "  color: #000000;\n",
       "}\n",
       "#T_a32b7_row8_col11 {\n",
       "  background-color: #82a6fb;\n",
       "  color: #f1f1f1;\n",
       "}\n",
       "#T_a32b7_row9_col0 {\n",
       "  background-color: #7093f3;\n",
       "  color: #f1f1f1;\n",
       "}\n",
       "#T_a32b7_row9_col1 {\n",
       "  background-color: #8caffe;\n",
       "  color: #000000;\n",
       "}\n",
       "#T_a32b7_row9_col6 {\n",
       "  background-color: #5a78e4;\n",
       "  color: #f1f1f1;\n",
       "}\n",
       "#T_a32b7_row10_col0, #T_a32b7_row11_col5 {\n",
       "  background-color: #6384eb;\n",
       "  color: #f1f1f1;\n",
       "}\n",
       "#T_a32b7_row10_col1 {\n",
       "  background-color: #7597f6;\n",
       "  color: #f1f1f1;\n",
       "}\n",
       "#T_a32b7_row10_col8 {\n",
       "  background-color: #edd1c2;\n",
       "  color: #000000;\n",
       "}\n",
       "#T_a32b7_row10_col11 {\n",
       "  background-color: #90b2fe;\n",
       "  color: #000000;\n",
       "}\n",
       "#T_a32b7_row11_col4 {\n",
       "  background-color: #85a8fc;\n",
       "  color: #f1f1f1;\n",
       "}\n",
       "#T_a32b7_row11_col6 {\n",
       "  background-color: #98b9ff;\n",
       "  color: #000000;\n",
       "}\n",
       "</style>\n",
       "<table id=\"T_a32b7\">\n",
       "  <thead>\n",
       "    <tr>\n",
       "      <th class=\"blank level0\" >&nbsp;</th>\n",
       "      <th id=\"T_a32b7_level0_col0\" class=\"col_heading level0 col0\" >Gender</th>\n",
       "      <th id=\"T_a32b7_level0_col1\" class=\"col_heading level0 col1\" >Married</th>\n",
       "      <th id=\"T_a32b7_level0_col2\" class=\"col_heading level0 col2\" >Education</th>\n",
       "      <th id=\"T_a32b7_level0_col3\" class=\"col_heading level0 col3\" >Self_Employed</th>\n",
       "      <th id=\"T_a32b7_level0_col4\" class=\"col_heading level0 col4\" >ApplicantIncome</th>\n",
       "      <th id=\"T_a32b7_level0_col5\" class=\"col_heading level0 col5\" >CoapplicantIncome</th>\n",
       "      <th id=\"T_a32b7_level0_col6\" class=\"col_heading level0 col6\" >LoanAmount</th>\n",
       "      <th id=\"T_a32b7_level0_col7\" class=\"col_heading level0 col7\" >Loan_Amount_Term</th>\n",
       "      <th id=\"T_a32b7_level0_col8\" class=\"col_heading level0 col8\" >Credit_History</th>\n",
       "      <th id=\"T_a32b7_level0_col9\" class=\"col_heading level0 col9\" >Property_Area</th>\n",
       "      <th id=\"T_a32b7_level0_col10\" class=\"col_heading level0 col10\" >Loan_Status</th>\n",
       "      <th id=\"T_a32b7_level0_col11\" class=\"col_heading level0 col11\" >Dependents</th>\n",
       "    </tr>\n",
       "  </thead>\n",
       "  <tbody>\n",
       "    <tr>\n",
       "      <th id=\"T_a32b7_level0_row0\" class=\"row_heading level0 row0\" >Gender</th>\n",
       "      <td id=\"T_a32b7_row0_col0\" class=\"data row0 col0\" >1.000000</td>\n",
       "      <td id=\"T_a32b7_row0_col1\" class=\"data row0 col1\" >0.364569</td>\n",
       "      <td id=\"T_a32b7_row0_col2\" class=\"data row0 col2\" >-0.045364</td>\n",
       "      <td id=\"T_a32b7_row0_col3\" class=\"data row0 col3\" >-0.000525</td>\n",
       "      <td id=\"T_a32b7_row0_col4\" class=\"data row0 col4\" >-0.058809</td>\n",
       "      <td id=\"T_a32b7_row0_col5\" class=\"data row0 col5\" >-0.082912</td>\n",
       "      <td id=\"T_a32b7_row0_col6\" class=\"data row0 col6\" >-0.106404</td>\n",
       "      <td id=\"T_a32b7_row0_col7\" class=\"data row0 col7\" >0.074030</td>\n",
       "      <td id=\"T_a32b7_row0_col8\" class=\"data row0 col8\" >-0.009170</td>\n",
       "      <td id=\"T_a32b7_row0_col9\" class=\"data row0 col9\" >0.025752</td>\n",
       "      <td id=\"T_a32b7_row0_col10\" class=\"data row0 col10\" >-0.017987</td>\n",
       "      <td id=\"T_a32b7_row0_col11\" class=\"data row0 col11\" >-0.172914</td>\n",
       "    </tr>\n",
       "    <tr>\n",
       "      <th id=\"T_a32b7_level0_row1\" class=\"row_heading level0 row1\" >Married</th>\n",
       "      <td id=\"T_a32b7_row1_col0\" class=\"data row1 col0\" >0.364569</td>\n",
       "      <td id=\"T_a32b7_row1_col1\" class=\"data row1 col1\" >1.000000</td>\n",
       "      <td id=\"T_a32b7_row1_col2\" class=\"data row1 col2\" >-0.012304</td>\n",
       "      <td id=\"T_a32b7_row1_col3\" class=\"data row1 col3\" >0.004489</td>\n",
       "      <td id=\"T_a32b7_row1_col4\" class=\"data row1 col4\" >-0.051708</td>\n",
       "      <td id=\"T_a32b7_row1_col5\" class=\"data row1 col5\" >-0.075948</td>\n",
       "      <td id=\"T_a32b7_row1_col6\" class=\"data row1 col6\" >-0.146212</td>\n",
       "      <td id=\"T_a32b7_row1_col7\" class=\"data row1 col7\" >0.100912</td>\n",
       "      <td id=\"T_a32b7_row1_col8\" class=\"data row1 col8\" >-0.010938</td>\n",
       "      <td id=\"T_a32b7_row1_col9\" class=\"data row1 col9\" >-0.004257</td>\n",
       "      <td id=\"T_a32b7_row1_col10\" class=\"data row1 col10\" >-0.091478</td>\n",
       "      <td id=\"T_a32b7_row1_col11\" class=\"data row1 col11\" >-0.334216</td>\n",
       "    </tr>\n",
       "    <tr>\n",
       "      <th id=\"T_a32b7_level0_row2\" class=\"row_heading level0 row2\" >Education</th>\n",
       "      <td id=\"T_a32b7_row2_col0\" class=\"data row2 col0\" >-0.045364</td>\n",
       "      <td id=\"T_a32b7_row2_col1\" class=\"data row2 col1\" >-0.012304</td>\n",
       "      <td id=\"T_a32b7_row2_col2\" class=\"data row2 col2\" >1.000000</td>\n",
       "      <td id=\"T_a32b7_row2_col3\" class=\"data row2 col3\" >0.010383</td>\n",
       "      <td id=\"T_a32b7_row2_col4\" class=\"data row2 col4\" >-0.140760</td>\n",
       "      <td id=\"T_a32b7_row2_col5\" class=\"data row2 col5\" >-0.062290</td>\n",
       "      <td id=\"T_a32b7_row2_col6\" class=\"data row2 col6\" >-0.169436</td>\n",
       "      <td id=\"T_a32b7_row2_col7\" class=\"data row2 col7\" >-0.073928</td>\n",
       "      <td id=\"T_a32b7_row2_col8\" class=\"data row2 col8\" >-0.073658</td>\n",
       "      <td id=\"T_a32b7_row2_col9\" class=\"data row2 col9\" >-0.065243</td>\n",
       "      <td id=\"T_a32b7_row2_col10\" class=\"data row2 col10\" >-0.085884</td>\n",
       "      <td id=\"T_a32b7_row2_col11\" class=\"data row2 col11\" >0.055752</td>\n",
       "    </tr>\n",
       "    <tr>\n",
       "      <th id=\"T_a32b7_level0_row3\" class=\"row_heading level0 row3\" >Self_Employed</th>\n",
       "      <td id=\"T_a32b7_row3_col0\" class=\"data row3 col0\" >-0.000525</td>\n",
       "      <td id=\"T_a32b7_row3_col1\" class=\"data row3 col1\" >0.004489</td>\n",
       "      <td id=\"T_a32b7_row3_col2\" class=\"data row3 col2\" >0.010383</td>\n",
       "      <td id=\"T_a32b7_row3_col3\" class=\"data row3 col3\" >1.000000</td>\n",
       "      <td id=\"T_a32b7_row3_col4\" class=\"data row3 col4\" >-0.127180</td>\n",
       "      <td id=\"T_a32b7_row3_col5\" class=\"data row3 col5\" >0.016100</td>\n",
       "      <td id=\"T_a32b7_row3_col6\" class=\"data row3 col6\" >-0.114971</td>\n",
       "      <td id=\"T_a32b7_row3_col7\" class=\"data row3 col7\" >0.033739</td>\n",
       "      <td id=\"T_a32b7_row3_col8\" class=\"data row3 col8\" >0.001550</td>\n",
       "      <td id=\"T_a32b7_row3_col9\" class=\"data row3 col9\" >0.030860</td>\n",
       "      <td id=\"T_a32b7_row3_col10\" class=\"data row3 col10\" >0.003700</td>\n",
       "      <td id=\"T_a32b7_row3_col11\" class=\"data row3 col11\" >-0.056798</td>\n",
       "    </tr>\n",
       "    <tr>\n",
       "      <th id=\"T_a32b7_level0_row4\" class=\"row_heading level0 row4\" >ApplicantIncome</th>\n",
       "      <td id=\"T_a32b7_row4_col0\" class=\"data row4 col0\" >-0.058809</td>\n",
       "      <td id=\"T_a32b7_row4_col1\" class=\"data row4 col1\" >-0.051708</td>\n",
       "      <td id=\"T_a32b7_row4_col2\" class=\"data row4 col2\" >-0.140760</td>\n",
       "      <td id=\"T_a32b7_row4_col3\" class=\"data row4 col3\" >-0.127180</td>\n",
       "      <td id=\"T_a32b7_row4_col4\" class=\"data row4 col4\" >1.000000</td>\n",
       "      <td id=\"T_a32b7_row4_col5\" class=\"data row4 col5\" >-0.116605</td>\n",
       "      <td id=\"T_a32b7_row4_col6\" class=\"data row4 col6\" >0.564698</td>\n",
       "      <td id=\"T_a32b7_row4_col7\" class=\"data row4 col7\" >-0.046531</td>\n",
       "      <td id=\"T_a32b7_row4_col8\" class=\"data row4 col8\" >-0.018615</td>\n",
       "      <td id=\"T_a32b7_row4_col9\" class=\"data row4 col9\" >-0.009500</td>\n",
       "      <td id=\"T_a32b7_row4_col10\" class=\"data row4 col10\" >-0.004710</td>\n",
       "      <td id=\"T_a32b7_row4_col11\" class=\"data row4 col11\" >0.118202</td>\n",
       "    </tr>\n",
       "    <tr>\n",
       "      <th id=\"T_a32b7_level0_row5\" class=\"row_heading level0 row5\" >CoapplicantIncome</th>\n",
       "      <td id=\"T_a32b7_row5_col0\" class=\"data row5 col0\" >-0.082912</td>\n",
       "      <td id=\"T_a32b7_row5_col1\" class=\"data row5 col1\" >-0.075948</td>\n",
       "      <td id=\"T_a32b7_row5_col2\" class=\"data row5 col2\" >-0.062290</td>\n",
       "      <td id=\"T_a32b7_row5_col3\" class=\"data row5 col3\" >0.016100</td>\n",
       "      <td id=\"T_a32b7_row5_col4\" class=\"data row5 col4\" >-0.116605</td>\n",
       "      <td id=\"T_a32b7_row5_col5\" class=\"data row5 col5\" >1.000000</td>\n",
       "      <td id=\"T_a32b7_row5_col6\" class=\"data row5 col6\" >0.189723</td>\n",
       "      <td id=\"T_a32b7_row5_col7\" class=\"data row5 col7\" >-0.059383</td>\n",
       "      <td id=\"T_a32b7_row5_col8\" class=\"data row5 col8\" >0.011134</td>\n",
       "      <td id=\"T_a32b7_row5_col9\" class=\"data row5 col9\" >0.010522</td>\n",
       "      <td id=\"T_a32b7_row5_col10\" class=\"data row5 col10\" >-0.059187</td>\n",
       "      <td id=\"T_a32b7_row5_col11\" class=\"data row5 col11\" >0.030430</td>\n",
       "    </tr>\n",
       "    <tr>\n",
       "      <th id=\"T_a32b7_level0_row6\" class=\"row_heading level0 row6\" >LoanAmount</th>\n",
       "      <td id=\"T_a32b7_row6_col0\" class=\"data row6 col0\" >-0.106404</td>\n",
       "      <td id=\"T_a32b7_row6_col1\" class=\"data row6 col1\" >-0.146212</td>\n",
       "      <td id=\"T_a32b7_row6_col2\" class=\"data row6 col2\" >-0.169436</td>\n",
       "      <td id=\"T_a32b7_row6_col3\" class=\"data row6 col3\" >-0.114971</td>\n",
       "      <td id=\"T_a32b7_row6_col4\" class=\"data row6 col4\" >0.564698</td>\n",
       "      <td id=\"T_a32b7_row6_col5\" class=\"data row6 col5\" >0.189723</td>\n",
       "      <td id=\"T_a32b7_row6_col6\" class=\"data row6 col6\" >1.000000</td>\n",
       "      <td id=\"T_a32b7_row6_col7\" class=\"data row6 col7\" >0.037152</td>\n",
       "      <td id=\"T_a32b7_row6_col8\" class=\"data row6 col8\" >-0.000250</td>\n",
       "      <td id=\"T_a32b7_row6_col9\" class=\"data row6 col9\" >-0.047414</td>\n",
       "      <td id=\"T_a32b7_row6_col10\" class=\"data row6 col10\" >-0.031808</td>\n",
       "      <td id=\"T_a32b7_row6_col11\" class=\"data row6 col11\" >0.163017</td>\n",
       "    </tr>\n",
       "    <tr>\n",
       "      <th id=\"T_a32b7_level0_row7\" class=\"row_heading level0 row7\" >Loan_Amount_Term</th>\n",
       "      <td id=\"T_a32b7_row7_col0\" class=\"data row7 col0\" >0.074030</td>\n",
       "      <td id=\"T_a32b7_row7_col1\" class=\"data row7 col1\" >0.100912</td>\n",
       "      <td id=\"T_a32b7_row7_col2\" class=\"data row7 col2\" >-0.073928</td>\n",
       "      <td id=\"T_a32b7_row7_col3\" class=\"data row7 col3\" >0.033739</td>\n",
       "      <td id=\"T_a32b7_row7_col4\" class=\"data row7 col4\" >-0.046531</td>\n",
       "      <td id=\"T_a32b7_row7_col5\" class=\"data row7 col5\" >-0.059383</td>\n",
       "      <td id=\"T_a32b7_row7_col6\" class=\"data row7 col6\" >0.037152</td>\n",
       "      <td id=\"T_a32b7_row7_col7\" class=\"data row7 col7\" >1.000000</td>\n",
       "      <td id=\"T_a32b7_row7_col8\" class=\"data row7 col8\" >-0.004705</td>\n",
       "      <td id=\"T_a32b7_row7_col9\" class=\"data row7 col9\" >-0.076120</td>\n",
       "      <td id=\"T_a32b7_row7_col10\" class=\"data row7 col10\" >-0.022549</td>\n",
       "      <td id=\"T_a32b7_row7_col11\" class=\"data row7 col11\" >-0.103864</td>\n",
       "    </tr>\n",
       "    <tr>\n",
       "      <th id=\"T_a32b7_level0_row8\" class=\"row_heading level0 row8\" >Credit_History</th>\n",
       "      <td id=\"T_a32b7_row8_col0\" class=\"data row8 col0\" >-0.009170</td>\n",
       "      <td id=\"T_a32b7_row8_col1\" class=\"data row8 col1\" >-0.010938</td>\n",
       "      <td id=\"T_a32b7_row8_col2\" class=\"data row8 col2\" >-0.073658</td>\n",
       "      <td id=\"T_a32b7_row8_col3\" class=\"data row8 col3\" >0.001550</td>\n",
       "      <td id=\"T_a32b7_row8_col4\" class=\"data row8 col4\" >-0.018615</td>\n",
       "      <td id=\"T_a32b7_row8_col5\" class=\"data row8 col5\" >0.011134</td>\n",
       "      <td id=\"T_a32b7_row8_col6\" class=\"data row8 col6\" >-0.000250</td>\n",
       "      <td id=\"T_a32b7_row8_col7\" class=\"data row8 col7\" >-0.004705</td>\n",
       "      <td id=\"T_a32b7_row8_col8\" class=\"data row8 col8\" >1.000000</td>\n",
       "      <td id=\"T_a32b7_row8_col9\" class=\"data row8 col9\" >0.001963</td>\n",
       "      <td id=\"T_a32b7_row8_col10\" class=\"data row8 col10\" >0.540556</td>\n",
       "      <td id=\"T_a32b7_row8_col11\" class=\"data row8 col11\" >-0.040160</td>\n",
       "    </tr>\n",
       "    <tr>\n",
       "      <th id=\"T_a32b7_level0_row9\" class=\"row_heading level0 row9\" >Property_Area</th>\n",
       "      <td id=\"T_a32b7_row9_col0\" class=\"data row9 col0\" >0.025752</td>\n",
       "      <td id=\"T_a32b7_row9_col1\" class=\"data row9 col1\" >-0.004257</td>\n",
       "      <td id=\"T_a32b7_row9_col2\" class=\"data row9 col2\" >-0.065243</td>\n",
       "      <td id=\"T_a32b7_row9_col3\" class=\"data row9 col3\" >0.030860</td>\n",
       "      <td id=\"T_a32b7_row9_col4\" class=\"data row9 col4\" >-0.009500</td>\n",
       "      <td id=\"T_a32b7_row9_col5\" class=\"data row9 col5\" >0.010522</td>\n",
       "      <td id=\"T_a32b7_row9_col6\" class=\"data row9 col6\" >-0.047414</td>\n",
       "      <td id=\"T_a32b7_row9_col7\" class=\"data row9 col7\" >-0.076120</td>\n",
       "      <td id=\"T_a32b7_row9_col8\" class=\"data row9 col8\" >0.001963</td>\n",
       "      <td id=\"T_a32b7_row9_col9\" class=\"data row9 col9\" >1.000000</td>\n",
       "      <td id=\"T_a32b7_row9_col10\" class=\"data row9 col10\" >0.032112</td>\n",
       "      <td id=\"T_a32b7_row9_col11\" class=\"data row9 col11\" >-0.000244</td>\n",
       "    </tr>\n",
       "    <tr>\n",
       "      <th id=\"T_a32b7_level0_row10\" class=\"row_heading level0 row10\" >Loan_Status</th>\n",
       "      <td id=\"T_a32b7_row10_col0\" class=\"data row10 col0\" >-0.017987</td>\n",
       "      <td id=\"T_a32b7_row10_col1\" class=\"data row10 col1\" >-0.091478</td>\n",
       "      <td id=\"T_a32b7_row10_col2\" class=\"data row10 col2\" >-0.085884</td>\n",
       "      <td id=\"T_a32b7_row10_col3\" class=\"data row10 col3\" >0.003700</td>\n",
       "      <td id=\"T_a32b7_row10_col4\" class=\"data row10 col4\" >-0.004710</td>\n",
       "      <td id=\"T_a32b7_row10_col5\" class=\"data row10 col5\" >-0.059187</td>\n",
       "      <td id=\"T_a32b7_row10_col6\" class=\"data row10 col6\" >-0.031808</td>\n",
       "      <td id=\"T_a32b7_row10_col7\" class=\"data row10 col7\" >-0.022549</td>\n",
       "      <td id=\"T_a32b7_row10_col8\" class=\"data row10 col8\" >0.540556</td>\n",
       "      <td id=\"T_a32b7_row10_col9\" class=\"data row10 col9\" >0.032112</td>\n",
       "      <td id=\"T_a32b7_row10_col10\" class=\"data row10 col10\" >1.000000</td>\n",
       "      <td id=\"T_a32b7_row10_col11\" class=\"data row10 col11\" >0.010118</td>\n",
       "    </tr>\n",
       "    <tr>\n",
       "      <th id=\"T_a32b7_level0_row11\" class=\"row_heading level0 row11\" >Dependents</th>\n",
       "      <td id=\"T_a32b7_row11_col0\" class=\"data row11 col0\" >-0.172914</td>\n",
       "      <td id=\"T_a32b7_row11_col1\" class=\"data row11 col1\" >-0.334216</td>\n",
       "      <td id=\"T_a32b7_row11_col2\" class=\"data row11 col2\" >0.055752</td>\n",
       "      <td id=\"T_a32b7_row11_col3\" class=\"data row11 col3\" >-0.056798</td>\n",
       "      <td id=\"T_a32b7_row11_col4\" class=\"data row11 col4\" >0.118202</td>\n",
       "      <td id=\"T_a32b7_row11_col5\" class=\"data row11 col5\" >0.030430</td>\n",
       "      <td id=\"T_a32b7_row11_col6\" class=\"data row11 col6\" >0.163017</td>\n",
       "      <td id=\"T_a32b7_row11_col7\" class=\"data row11 col7\" >-0.103864</td>\n",
       "      <td id=\"T_a32b7_row11_col8\" class=\"data row11 col8\" >-0.040160</td>\n",
       "      <td id=\"T_a32b7_row11_col9\" class=\"data row11 col9\" >-0.000244</td>\n",
       "      <td id=\"T_a32b7_row11_col10\" class=\"data row11 col10\" >0.010118</td>\n",
       "      <td id=\"T_a32b7_row11_col11\" class=\"data row11 col11\" >1.000000</td>\n",
       "    </tr>\n",
       "  </tbody>\n",
       "</table>\n"
      ],
      "text/plain": [
       "<pandas.io.formats.style.Styler at 0x24264a9af40>"
      ]
     },
     "execution_count": 40,
     "metadata": {},
     "output_type": "execute_result"
    }
   ],
   "source": [
    "# Correlation table for better view\n",
    "corr = df_train.corr()\n",
    "\n",
    "corr.style.background_gradient(cmap=\"coolwarm\")"
   ]
  },
  {
   "cell_type": "markdown",
   "id": "277c9385",
   "metadata": {},
   "source": [
    "Correlation&nbsp;between&nbsp;Quantitative&nbsp;Variables"
   ]
  },
  {
   "cell_type": "markdown",
   "id": "1739ed96",
   "metadata": {},
   "source": [
    "Correlation&nbsp;between&nbsp;Quantitative&nbsp;Variables"
   ]
  },
  {
   "cell_type": "code",
   "execution_count": 41,
   "id": "11a68298",
   "metadata": {},
   "outputs": [
    {
     "data": {
      "text/plain": [
       "array([[1.        , 0.56469817],\n",
       "       [0.56469817, 1.        ]])"
      ]
     },
     "execution_count": 41,
     "metadata": {},
     "output_type": "execute_result"
    }
   ],
   "source": [
    "import numpy as np\n",
    "np.corrcoef(df_train['LoanAmount'], df_train['ApplicantIncome'])"
   ]
  },
  {
   "cell_type": "markdown",
   "id": "322d60f7",
   "metadata": {},
   "source": [
    "correlation between loan amount and applicant income is 56%"
   ]
  },
  {
   "cell_type": "code",
   "execution_count": 43,
   "id": "75b86cb8",
   "metadata": {},
   "outputs": [
    {
     "data": {
      "text/plain": [
       "array([[1.        , 0.18972284],\n",
       "       [0.18972284, 1.        ]])"
      ]
     },
     "execution_count": 43,
     "metadata": {},
     "output_type": "execute_result"
    }
   ],
   "source": [
    "np.corrcoef(df_train['LoanAmount'], df_train['CoapplicantIncome'])"
   ]
  },
  {
   "cell_type": "markdown",
   "id": "0e5df9ac",
   "metadata": {},
   "source": [
    "correlation between loan amount and coapplicant income is 19 %"
   ]
  },
  {
   "cell_type": "markdown",
   "id": "7f43202d",
   "metadata": {},
   "source": [
    "# Outlier Treatment"
   ]
  },
  {
   "cell_type": "markdown",
   "id": "e14cee47",
   "metadata": {},
   "source": [
    "Due to outliers in the Loan Amount. the data in the loan amount is skewed towards the right, which means bulk of the data is towards the left. We remove this skewness by doing a log transformation. A log transformation doesn't effect affect the smaller values much but reduces the larger values. So the distribution becomes normal"
   ]
  },
  {
   "cell_type": "code",
   "execution_count": 46,
   "id": "bcc66e78",
   "metadata": {},
   "outputs": [
    {
     "data": {
      "text/plain": [
       "<AxesSubplot:>"
      ]
     },
     "execution_count": 46,
     "metadata": {},
     "output_type": "execute_result"
    },
    {
     "data": {
      "image/png": "[encoded data removed]",
      "text/plain": [
       "<Figure size 432x288 with 1 Axes>"
      ]
     },
     "metadata": {},
     "output_type": "display_data"
    }
   ],
   "source": [
    "y=df_train.Loan_Status\n",
    "Loan_data_V1=df_train.drop('Loan_Status',1)\n",
    "df_train['LoanAmount_log']=np.log(df_train['LoanAmount'])\n",
    "df_train['LoanAmount_log'].hist(bins=20)"
   ]
  },
  {
   "cell_type": "code",
   "execution_count": 47,
   "id": "fc330a55",
   "metadata": {},
   "outputs": [],
   "source": [
    "Loan_data_V1=pd.get_dummies(Loan_data_V1)\n",
    "df_train=pd.get_dummies(df_train)"
   ]
  },
  {
   "cell_type": "code",
   "execution_count": 48,
   "id": "5eb43a7e",
   "metadata": {},
   "outputs": [
    {
     "name": "stdout",
     "output_type": "stream",
     "text": [
      "Optimization terminated successfully.\n",
      "         Current function value: 0.464332\n",
      "         Iterations 6\n",
      "                           Logit Regression Results                           \n",
      "==============================================================================\n",
      "Dep. Variable:            Loan_Status   No. Observations:                  614\n",
      "Model:                          Logit   Df Residuals:                      598\n",
      "Method:                           MLE   Df Model:                           15\n",
      "Date:                Fri, 04 Nov 2022   Pseudo R-squ.:                  0.2526\n",
      "Time:                        23:57:15   Log-Likelihood:                -285.10\n",
      "converged:                       True   LL-Null:                       -381.45\n",
      "Covariance Type:            nonrobust   LLR p-value:                 6.463e-33\n",
      "==================================================================================================\n",
      "                                     coef    std err          z      P>|z|      [0.025      0.975]\n",
      "--------------------------------------------------------------------------------------------------\n",
      "Gender                             0.0891      0.291      0.306      0.760      -0.481       0.660\n",
      "Married                           -0.5559      0.247     -2.249      0.025      -1.040      -0.071\n",
      "Education                         -0.4660      0.258     -1.804      0.071      -0.972       0.040\n",
      "Self_Employed                     -0.0963      0.319     -0.302      0.763      -0.721       0.528\n",
      "ApplicantIncome                 2.536e-05   2.43e-05      1.043      0.297   -2.23e-05     7.3e-05\n",
      "CoapplicantIncome              -6.463e-05   3.63e-05     -1.779      0.075      -0.000    6.58e-06\n",
      "LoanAmount                        -0.0024      0.003     -0.802      0.423      -0.008       0.004\n",
      "Loan_Amount_Term                  -0.0009      0.002     -0.502      0.615      -0.004       0.003\n",
      "Credit_History                     3.9086      0.419      9.318      0.000       3.086       4.731\n",
      "Property_Area                      0.0921      0.137      0.674      0.500      -0.176       0.360\n",
      "Dependents                         0.0537      0.117      0.461      0.645      -0.175       0.282\n",
      "LoanAmount_log                     0.2582      0.505      0.511      0.609      -0.732       1.249\n",
      "Applicant_Income_bin_3            -1.7652      2.425     -0.728      0.467      -6.518       2.988\n",
      "Applicant_Income_bin_High         -2.1179      2.462     -0.860      0.390      -6.943       2.708\n",
      "Applicant_Income_bin_Low          -1.8126      2.385     -0.760      0.447      -6.488       2.862\n",
      "Applicant_Income_bin_Very high    -2.3895      2.482     -0.963      0.336      -7.254       2.475\n",
      "==================================================================================================\n"
     ]
    }
   ],
   "source": [
    "import statsmodels.api as sm\n",
    "from statsmodels.sandbox.regression.predstd import wls_prediction_std\n",
    "\n",
    "model1=sm.Logit(y,Loan_data_V1 )\n",
    "result=model1.fit()\n",
    "\n",
    "print(result.summary())"
   ]
  },
  {
   "cell_type": "code",
   "execution_count": 60,
   "id": "f3ee9d06",
   "metadata": {},
   "outputs": [
    {
     "data": {
      "text/html": [
       "<div>\n",
       "<style scoped>\n",
       "    .dataframe tbody tr th:only-of-type {\n",
       "        vertical-align: middle;\n",
       "    }\n",
       "\n",
       "    .dataframe tbody tr th {\n",
       "        vertical-align: top;\n",
       "    }\n",
       "\n",
       "    .dataframe thead th {\n",
       "        text-align: right;\n",
       "    }\n",
       "</style>\n",
       "<table border=\"1\" class=\"dataframe\">\n",
       "  <thead>\n",
       "    <tr style=\"text-align: right;\">\n",
       "      <th></th>\n",
       "      <th>odds_ratio</th>\n",
       "      <th>variable</th>\n",
       "    </tr>\n",
       "  </thead>\n",
       "  <tbody>\n",
       "    <tr>\n",
       "      <th>8</th>\n",
       "      <td>23.930099</td>\n",
       "      <td>Credit_History</td>\n",
       "    </tr>\n",
       "    <tr>\n",
       "      <th>11</th>\n",
       "      <td>1.216064</td>\n",
       "      <td>LoanAmount_log</td>\n",
       "    </tr>\n",
       "    <tr>\n",
       "      <th>12</th>\n",
       "      <td>1.169860</td>\n",
       "      <td>Applicant_Income_bin_3</td>\n",
       "    </tr>\n",
       "    <tr>\n",
       "      <th>14</th>\n",
       "      <td>1.088647</td>\n",
       "      <td>Applicant_Income_bin_Low</td>\n",
       "    </tr>\n",
       "    <tr>\n",
       "      <th>3</th>\n",
       "      <td>1.074965</td>\n",
       "      <td>Self_Employed</td>\n",
       "    </tr>\n",
       "    <tr>\n",
       "      <th>9</th>\n",
       "      <td>1.001482</td>\n",
       "      <td>Property_Area</td>\n",
       "    </tr>\n",
       "    <tr>\n",
       "      <th>4</th>\n",
       "      <td>1.000013</td>\n",
       "      <td>ApplicantIncome</td>\n",
       "    </tr>\n",
       "    <tr>\n",
       "      <th>5</th>\n",
       "      <td>0.999937</td>\n",
       "      <td>CoapplicantIncome</td>\n",
       "    </tr>\n",
       "    <tr>\n",
       "      <th>6</th>\n",
       "      <td>0.997579</td>\n",
       "      <td>LoanAmount</td>\n",
       "    </tr>\n",
       "    <tr>\n",
       "      <th>7</th>\n",
       "      <td>0.997106</td>\n",
       "      <td>Loan_Amount_Term</td>\n",
       "    </tr>\n",
       "    <tr>\n",
       "      <th>13</th>\n",
       "      <td>0.968168</td>\n",
       "      <td>Applicant_Income_bin_High</td>\n",
       "    </tr>\n",
       "    <tr>\n",
       "      <th>0</th>\n",
       "      <td>0.941437</td>\n",
       "      <td>Gender</td>\n",
       "    </tr>\n",
       "    <tr>\n",
       "      <th>10</th>\n",
       "      <td>0.874279</td>\n",
       "      <td>Dependents</td>\n",
       "    </tr>\n",
       "    <tr>\n",
       "      <th>15</th>\n",
       "      <td>0.865222</td>\n",
       "      <td>Applicant_Income_bin_Very high</td>\n",
       "    </tr>\n",
       "    <tr>\n",
       "      <th>2</th>\n",
       "      <td>0.574669</td>\n",
       "      <td>Education</td>\n",
       "    </tr>\n",
       "    <tr>\n",
       "      <th>1</th>\n",
       "      <td>0.547977</td>\n",
       "      <td>Married</td>\n",
       "    </tr>\n",
       "  </tbody>\n",
       "</table>\n",
       "</div>"
      ],
      "text/plain": [
       "    odds_ratio                        variable\n",
       "8    23.930099                  Credit_History\n",
       "11    1.216064                  LoanAmount_log\n",
       "12    1.169860          Applicant_Income_bin_3\n",
       "14    1.088647        Applicant_Income_bin_Low\n",
       "3     1.074965                   Self_Employed\n",
       "9     1.001482                   Property_Area\n",
       "4     1.000013                 ApplicantIncome\n",
       "5     0.999937               CoapplicantIncome\n",
       "6     0.997579                      LoanAmount\n",
       "7     0.997106                Loan_Amount_Term\n",
       "13    0.968168       Applicant_Income_bin_High\n",
       "0     0.941437                          Gender\n",
       "10    0.874279                      Dependents\n",
       "15    0.865222  Applicant_Income_bin_Very high\n",
       "2     0.574669                       Education\n",
       "1     0.547977                         Married"
      ]
     },
     "execution_count": 60,
     "metadata": {},
     "output_type": "execute_result"
    }
   ],
   "source": [
    "model_V1=LogisticRegression()\n",
    "model_V1.fit(Loan_data_V1,y)\n",
    "\n",
    "LogisticRegression(C=1.0, class_weight=None, dual=False, fit_intercept=True, intercept_scaling=1, max_iter=100,multi_class='ovr',n_jobs=1,penalty='12',random_state=1,solver='liblinear',tol=0.0001,verbose=0,warm_start=False)\n",
    "\n",
    "df=pd.DataFrame({'odds_ratio':(np.exp(model_V1.coef_).T).tolist(),'variable':Loan_data_V1.columns.tolist()})\n",
    "df['odds_ratio'] = df['odds_ratio'].str.get(0)\n",
    "\n",
    "df=df.sort_values('odds_ratio', ascending=False)\n",
    "df"
   ]
  },
  {
   "cell_type": "markdown",
   "id": "3c72a708",
   "metadata": {},
   "source": [
    "larger value of odds ratio indicate that the independent varibale is a good predictor of target variable. In our case the association between the credit history and loan status is strongest"
   ]
  },
  {
   "cell_type": "code",
   "execution_count": 61,
   "id": "da864dd2",
   "metadata": {},
   "outputs": [
    {
     "data": {
      "text/plain": [
       "0.8110749185667753"
      ]
     },
     "execution_count": 61,
     "metadata": {},
     "output_type": "execute_result"
    }
   ],
   "source": [
    "predicted_1 = model_V1.predict(Loan_data_V1)\n",
    "accuracy_score(y,predicted_1)"
   ]
  },
  {
   "cell_type": "markdown",
   "id": "a1cde66a",
   "metadata": {},
   "source": [
    "# Accuracy of the model created is around 81 %"
   ]
  },
  {
   "cell_type": "code",
   "execution_count": 54,
   "id": "018754a3",
   "metadata": {},
   "outputs": [],
   "source": [
    "Loan_data_V2 = df_train.filter(['Credit_History'], axis=1)\n",
    "Loan_data_V2=pd.get_dummies(Loan_data_V2)"
   ]
  },
  {
   "cell_type": "code",
   "execution_count": 55,
   "id": "034d7c6f",
   "metadata": {},
   "outputs": [
    {
     "name": "stdout",
     "output_type": "stream",
     "text": [
      "Optimization terminated successfully.\n",
      "         Current function value: 0.539390\n",
      "         Iterations 5\n",
      "                           Logit Regression Results                           \n",
      "==============================================================================\n",
      "Dep. Variable:            Loan_Status   No. Observations:                  614\n",
      "Model:                          Logit   Df Residuals:                      613\n",
      "Method:                           MLE   Df Model:                            0\n",
      "Date:                Sat, 05 Nov 2022   Pseudo R-squ.:                  0.1318\n",
      "Time:                        00:18:33   Log-Likelihood:                -331.19\n",
      "converged:                       True   LL-Null:                       -381.45\n",
      "Covariance Type:            nonrobust   LLR p-value:                       nan\n",
      "==================================================================================\n",
      "                     coef    std err          z      P>|z|      [0.025      0.975]\n",
      "----------------------------------------------------------------------------------\n",
      "Credit_History     1.3278      0.107     12.381      0.000       1.118       1.538\n",
      "==================================================================================\n"
     ]
    }
   ],
   "source": [
    "model2=sm.Logit(y,Loan_data_V2 )\n",
    "\n",
    "result2=model2.fit()\n",
    "\n",
    "print(result2.summary())"
   ]
  },
  {
   "cell_type": "code",
   "execution_count": 57,
   "id": "b1ffdb3f",
   "metadata": {},
   "outputs": [
    {
     "data": {
      "text/html": [
       "<div>\n",
       "<style scoped>\n",
       "    .dataframe tbody tr th:only-of-type {\n",
       "        vertical-align: middle;\n",
       "    }\n",
       "\n",
       "    .dataframe tbody tr th {\n",
       "        vertical-align: top;\n",
       "    }\n",
       "\n",
       "    .dataframe thead th {\n",
       "        text-align: right;\n",
       "    }\n",
       "</style>\n",
       "<table border=\"1\" class=\"dataframe\">\n",
       "  <thead>\n",
       "    <tr style=\"text-align: right;\">\n",
       "      <th></th>\n",
       "      <th>odds_ratio</th>\n",
       "      <th>variable</th>\n",
       "    </tr>\n",
       "  </thead>\n",
       "  <tbody>\n",
       "    <tr>\n",
       "      <th>0</th>\n",
       "      <td>27.69363</td>\n",
       "      <td>Credit_History</td>\n",
       "    </tr>\n",
       "  </tbody>\n",
       "</table>\n",
       "</div>"
      ],
      "text/plain": [
       "   odds_ratio        variable\n",
       "0    27.69363  Credit_History"
      ]
     },
     "execution_count": 57,
     "metadata": {},
     "output_type": "execute_result"
    }
   ],
   "source": [
    "from sklearn.linear_model import LogisticRegression\n",
    "model_V2=LogisticRegression()\n",
    "model_V2.fit(Loan_data_V2,y)\n",
    "\n",
    "LogisticRegression(C=1.0, class_weight=None, dual=False, fit_intercept=True, intercept_scaling=1, max_iter=100,multi_class='ovr',n_jobs=1,penalty='12',random_state=1,solver='liblinear',tol=0.0001,verbose=0,warm_start=False)\n",
    "\n",
    "df=pd.DataFrame({'odds_ratio':(np.exp(model_V2.coef_).T).tolist(),'variable':Loan_data_V2.columns.tolist()})\n",
    "df['odds_ratio'] = df['odds_ratio'].str.get(0)\n",
    "\n",
    "df=df.sort_values('odds_ratio', ascending=False)\n",
    "df"
   ]
  },
  {
   "cell_type": "code",
   "execution_count": null,
   "id": "6c433f0d",
   "metadata": {},
   "outputs": [],
   "source": []
  },
  {
   "cell_type": "code",
   "execution_count": 62,
   "id": "660b9c3f",
   "metadata": {},
   "outputs": [],
   "source": [
    "Loan_data_V3 = Loan_data_V1.drop(['ApplicantIncome'], axis=1)\n",
    "Loan_data_V3 =pd.get_dummies(Loan_data_V3)"
   ]
  },
  {
   "cell_type": "code",
   "execution_count": 63,
   "id": "d4ee1f3a",
   "metadata": {},
   "outputs": [
    {
     "name": "stdout",
     "output_type": "stream",
     "text": [
      "Optimization terminated successfully.\n",
      "         Current function value: 0.465169\n",
      "         Iterations 6\n",
      "                           Logit Regression Results                           \n",
      "==============================================================================\n",
      "Dep. Variable:            Loan_Status   No. Observations:                  614\n",
      "Model:                          Logit   Df Residuals:                      599\n",
      "Method:                           MLE   Df Model:                           14\n",
      "Date:                Sat, 05 Nov 2022   Pseudo R-squ.:                  0.2512\n",
      "Time:                        00:26:51   Log-Likelihood:                -285.61\n",
      "converged:                       True   LL-Null:                       -381.45\n",
      "Covariance Type:            nonrobust   LLR p-value:                 2.757e-33\n",
      "==================================================================================================\n",
      "                                     coef    std err          z      P>|z|      [0.025      0.975]\n",
      "--------------------------------------------------------------------------------------------------\n",
      "Gender                             0.0848      0.291      0.292      0.770      -0.485       0.655\n",
      "Married                           -0.5554      0.247     -2.251      0.024      -1.039      -0.072\n",
      "Education                         -0.4728      0.258     -1.834      0.067      -0.978       0.032\n",
      "Self_Employed                     -0.0901      0.318     -0.284      0.777      -0.713       0.533\n",
      "CoapplicantIncome              -6.922e-05   3.62e-05     -1.911      0.056      -0.000    1.76e-06\n",
      "LoanAmount                        -0.0012      0.003     -0.442      0.659      -0.007       0.004\n",
      "Loan_Amount_Term                  -0.0009      0.002     -0.527      0.598      -0.004       0.003\n",
      "Credit_History                     3.8730      0.414      9.348      0.000       3.061       4.685\n",
      "Property_Area                      0.0918      0.137      0.672      0.502      -0.176       0.359\n",
      "Dependents                         0.0572      0.117      0.491      0.624      -0.171       0.286\n",
      "LoanAmount_log                     0.1418      0.497      0.285      0.775      -0.832       1.115\n",
      "Applicant_Income_bin_3            -1.2207      2.385     -0.512      0.609      -5.895       3.454\n",
      "Applicant_Income_bin_High         -1.5395      2.416     -0.637      0.524      -6.275       3.196\n",
      "Applicant_Income_bin_Low          -1.2930      2.350     -0.550      0.582      -5.899       3.313\n",
      "Applicant_Income_bin_Very high    -1.6920      2.407     -0.703      0.482      -6.410       3.026\n",
      "==================================================================================================\n"
     ]
    }
   ],
   "source": [
    "model3=sm.Logit(y,Loan_data_V3 )\n",
    "\n",
    "result3=model3.fit()\n",
    "\n",
    "print(result3.summary())"
   ]
  },
  {
   "cell_type": "code",
   "execution_count": 64,
   "id": "2f0a6c07",
   "metadata": {},
   "outputs": [
    {
     "data": {
      "text/html": [
       "<div>\n",
       "<style scoped>\n",
       "    .dataframe tbody tr th:only-of-type {\n",
       "        vertical-align: middle;\n",
       "    }\n",
       "\n",
       "    .dataframe tbody tr th {\n",
       "        vertical-align: top;\n",
       "    }\n",
       "\n",
       "    .dataframe thead th {\n",
       "        text-align: right;\n",
       "    }\n",
       "</style>\n",
       "<table border=\"1\" class=\"dataframe\">\n",
       "  <thead>\n",
       "    <tr style=\"text-align: right;\">\n",
       "      <th></th>\n",
       "      <th>odds_ratio</th>\n",
       "      <th>variable</th>\n",
       "    </tr>\n",
       "  </thead>\n",
       "  <tbody>\n",
       "    <tr>\n",
       "      <th>7</th>\n",
       "      <td>28.245471</td>\n",
       "      <td>Credit_History</td>\n",
       "    </tr>\n",
       "    <tr>\n",
       "      <th>11</th>\n",
       "      <td>1.191128</td>\n",
       "      <td>Applicant_Income_bin_3</td>\n",
       "    </tr>\n",
       "    <tr>\n",
       "      <th>13</th>\n",
       "      <td>1.114031</td>\n",
       "      <td>Applicant_Income_bin_Low</td>\n",
       "    </tr>\n",
       "    <tr>\n",
       "      <th>8</th>\n",
       "      <td>1.097161</td>\n",
       "      <td>Property_Area</td>\n",
       "    </tr>\n",
       "    <tr>\n",
       "      <th>9</th>\n",
       "      <td>1.026419</td>\n",
       "      <td>Dependents</td>\n",
       "    </tr>\n",
       "    <tr>\n",
       "      <th>4</th>\n",
       "      <td>0.999933</td>\n",
       "      <td>CoapplicantIncome</td>\n",
       "    </tr>\n",
       "    <tr>\n",
       "      <th>5</th>\n",
       "      <td>0.999347</td>\n",
       "      <td>LoanAmount</td>\n",
       "    </tr>\n",
       "    <tr>\n",
       "      <th>6</th>\n",
       "      <td>0.999305</td>\n",
       "      <td>Loan_Amount_Term</td>\n",
       "    </tr>\n",
       "    <tr>\n",
       "      <th>0</th>\n",
       "      <td>0.991136</td>\n",
       "      <td>Gender</td>\n",
       "    </tr>\n",
       "    <tr>\n",
       "      <th>10</th>\n",
       "      <td>0.957596</td>\n",
       "      <td>LoanAmount_log</td>\n",
       "    </tr>\n",
       "    <tr>\n",
       "      <th>3</th>\n",
       "      <td>0.923878</td>\n",
       "      <td>Self_Employed</td>\n",
       "    </tr>\n",
       "    <tr>\n",
       "      <th>12</th>\n",
       "      <td>0.917998</td>\n",
       "      <td>Applicant_Income_bin_High</td>\n",
       "    </tr>\n",
       "    <tr>\n",
       "      <th>14</th>\n",
       "      <td>0.831527</td>\n",
       "      <td>Applicant_Income_bin_Very high</td>\n",
       "    </tr>\n",
       "    <tr>\n",
       "      <th>2</th>\n",
       "      <td>0.576169</td>\n",
       "      <td>Education</td>\n",
       "    </tr>\n",
       "    <tr>\n",
       "      <th>1</th>\n",
       "      <td>0.560791</td>\n",
       "      <td>Married</td>\n",
       "    </tr>\n",
       "  </tbody>\n",
       "</table>\n",
       "</div>"
      ],
      "text/plain": [
       "    odds_ratio                        variable\n",
       "7    28.245471                  Credit_History\n",
       "11    1.191128          Applicant_Income_bin_3\n",
       "13    1.114031        Applicant_Income_bin_Low\n",
       "8     1.097161                   Property_Area\n",
       "9     1.026419                      Dependents\n",
       "4     0.999933               CoapplicantIncome\n",
       "5     0.999347                      LoanAmount\n",
       "6     0.999305                Loan_Amount_Term\n",
       "0     0.991136                          Gender\n",
       "10    0.957596                  LoanAmount_log\n",
       "3     0.923878                   Self_Employed\n",
       "12    0.917998       Applicant_Income_bin_High\n",
       "14    0.831527  Applicant_Income_bin_Very high\n",
       "2     0.576169                       Education\n",
       "1     0.560791                         Married"
      ]
     },
     "execution_count": 64,
     "metadata": {},
     "output_type": "execute_result"
    }
   ],
   "source": [
    "model_V3=LogisticRegression()\n",
    "model_V3.fit(Loan_data_V3,y)\n",
    "\n",
    "LogisticRegression(C=1.0, class_weight=None, dual=False, fit_intercept=True, intercept_scaling=1, max_iter=100,multi_class='ovr',n_jobs=1,penalty='12',random_state=1,solver='liblinear',tol=0.0001,verbose=0,warm_start=False)\n",
    "\n",
    "df=pd.DataFrame({'odds_ratio':(np.exp(model_V3.coef_).T).tolist(),'variable':Loan_data_V3.columns.tolist()})\n",
    "df['odds_ratio'] = df['odds_ratio'].str.get(0)\n",
    "\n",
    "df=df.sort_values('odds_ratio', ascending=False)\n",
    "df"
   ]
  },
  {
   "cell_type": "code",
   "execution_count": 65,
   "id": "3cd3911f",
   "metadata": {},
   "outputs": [
    {
     "data": {
      "text/plain": [
       "0.8110749185667753"
      ]
     },
     "execution_count": 65,
     "metadata": {},
     "output_type": "execute_result"
    }
   ],
   "source": [
    "predicted_3 = model_V3.predict(Loan_data_V3)\n",
    "accuracy_score(y,predicted_3)"
   ]
  },
  {
   "cell_type": "markdown",
   "id": "e320055c",
   "metadata": {},
   "source": [
    "# Accuracy of second model is 81 %"
   ]
  },
  {
   "cell_type": "code",
   "execution_count": 67,
   "id": "62da7674",
   "metadata": {},
   "outputs": [],
   "source": [
    "Loan_data_V4 = df_train.filter(['Credit_History', 'CoapplicantIncome'], axis=1)\n",
    "Loan_data_V4=pd.get_dummies(Loan_data_V4)"
   ]
  },
  {
   "cell_type": "code",
   "execution_count": 68,
   "id": "feeaf6b3",
   "metadata": {},
   "outputs": [
    {
     "name": "stdout",
     "output_type": "stream",
     "text": [
      "Optimization terminated successfully.\n",
      "         Current function value: 0.530149\n",
      "         Iterations 5\n",
      "                           Logit Regression Results                           \n",
      "==============================================================================\n",
      "Dep. Variable:            Loan_Status   No. Observations:                  614\n",
      "Model:                          Logit   Df Residuals:                      612\n",
      "Method:                           MLE   Df Model:                            1\n",
      "Date:                Sat, 05 Nov 2022   Pseudo R-squ.:                  0.1466\n",
      "Time:                        00:29:16   Log-Likelihood:                -325.51\n",
      "converged:                       True   LL-Null:                       -381.45\n",
      "Covariance Type:            nonrobust   LLR p-value:                 3.818e-26\n",
      "=====================================================================================\n",
      "                        coef    std err          z      P>|z|      [0.025      0.975]\n",
      "-------------------------------------------------------------------------------------\n",
      "Credit_History        1.5175      0.126     12.004      0.000       1.270       1.765\n",
      "CoapplicantIncome    -0.0001   3.68e-05     -2.916      0.004      -0.000   -3.51e-05\n",
      "=====================================================================================\n"
     ]
    }
   ],
   "source": [
    "model4=sm.Logit(y,Loan_data_V4 )\n",
    "\n",
    "result4=model4.fit()\n",
    "\n",
    "print(result4.summary())"
   ]
  },
  {
   "cell_type": "code",
   "execution_count": 69,
   "id": "2555c528",
   "metadata": {},
   "outputs": [
    {
     "data": {
      "text/html": [
       "<div>\n",
       "<style scoped>\n",
       "    .dataframe tbody tr th:only-of-type {\n",
       "        vertical-align: middle;\n",
       "    }\n",
       "\n",
       "    .dataframe tbody tr th {\n",
       "        vertical-align: top;\n",
       "    }\n",
       "\n",
       "    .dataframe thead th {\n",
       "        text-align: right;\n",
       "    }\n",
       "</style>\n",
       "<table border=\"1\" class=\"dataframe\">\n",
       "  <thead>\n",
       "    <tr style=\"text-align: right;\">\n",
       "      <th></th>\n",
       "      <th>odds_ratio</th>\n",
       "      <th>variable</th>\n",
       "    </tr>\n",
       "  </thead>\n",
       "  <tbody>\n",
       "    <tr>\n",
       "      <th>0</th>\n",
       "      <td>28.048905</td>\n",
       "      <td>Credit_History</td>\n",
       "    </tr>\n",
       "    <tr>\n",
       "      <th>1</th>\n",
       "      <td>0.999948</td>\n",
       "      <td>CoapplicantIncome</td>\n",
       "    </tr>\n",
       "  </tbody>\n",
       "</table>\n",
       "</div>"
      ],
      "text/plain": [
       "   odds_ratio           variable\n",
       "0   28.048905     Credit_History\n",
       "1    0.999948  CoapplicantIncome"
      ]
     },
     "execution_count": 69,
     "metadata": {},
     "output_type": "execute_result"
    }
   ],
   "source": [
    "model_V4 = LogisticRegression()\n",
    "model_V4.fit(Loan_data_V4,y)\n",
    "\n",
    "LogisticRegression(C=1.0, class_weight=None, dual=False, fit_intercept=True, intercept_scaling=1, max_iter=100,multi_class='ovr',n_jobs=1,penalty='12',random_state=1,solver='liblinear',tol=0.0001,verbose=0,warm_start=False)\n",
    "\n",
    "df=pd.DataFrame({'odds_ratio':(np.exp(model_V4.coef_).T).tolist(),'variable':Loan_data_V4.columns.tolist()})\n",
    "df['odds_ratio'] = df['odds_ratio'].str.get(0)\n",
    "\n",
    "df=df.sort_values('odds_ratio', ascending=False)\n",
    "df"
   ]
  },
  {
   "cell_type": "code",
   "execution_count": 70,
   "id": "eae36f35",
   "metadata": {},
   "outputs": [
    {
     "data": {
      "text/plain": [
       "0.8127035830618893"
      ]
     },
     "execution_count": 70,
     "metadata": {},
     "output_type": "execute_result"
    }
   ],
   "source": [
    "predicted_4 = model_V4.predict(Loan_data_V4)\n",
    "accuracy_score(y,predicted_4)"
   ]
  },
  {
   "cell_type": "code",
   "execution_count": 72,
   "id": "50a58135",
   "metadata": {},
   "outputs": [
    {
     "data": {
      "text/plain": [
       "LogisticRegression()"
      ]
     },
     "execution_count": 72,
     "metadata": {},
     "output_type": "execute_result"
    }
   ],
   "source": [
    "from sklearn.model_selection import train_test_split\n",
    "X_train, X_test, y_train, y_test = train_test_split(Loan_data_V4, y, test_size=0.3, random_state=0)\n",
    "logreg = LogisticRegression()\n",
    "logreg.fit(X_train, y_train)"
   ]
  },
  {
   "cell_type": "code",
   "execution_count": 73,
   "id": "566666b3",
   "metadata": {},
   "outputs": [
    {
     "name": "stdout",
     "output_type": "stream",
     "text": [
      "Accuracy of logistic regression classifier on test set: 0.83\n"
     ]
    }
   ],
   "source": [
    "y_pred = logreg.predict(X_test)\n",
    "print('Accuracy of logistic regression classifier on test set: {:.2f}'.format(logreg.score(X_test, y_test)))"
   ]
  },
  {
   "cell_type": "code",
   "execution_count": 74,
   "id": "a5270914",
   "metadata": {},
   "outputs": [
    {
     "name": "stdout",
     "output_type": "stream",
     "text": [
      "              precision    recall  f1-score   support\n",
      "\n",
      "           0       0.57      0.47      0.52        51\n",
      "           1       0.81      0.87      0.84       134\n",
      "\n",
      "    accuracy                           0.76       185\n",
      "   macro avg       0.69      0.67      0.68       185\n",
      "weighted avg       0.75      0.76      0.75       185\n",
      "\n",
      "75.68% Accurate\n"
     ]
    }
   ],
   "source": [
    "DT = DecisionTreeClassifier()\n",
    "DT.fit(X_train, y_train)\n",
    "\n",
    "y_predict = DT.predict(X_test)\n",
    "\n",
    "#  prediction Summary by species\n",
    "print(classification_report(y_test, y_predict))\n",
    "\n",
    "# Accuracy score\n",
    "DT_SC = accuracy_score(y_predict,y_test)\n",
    "print(f\"{round(DT_SC*100,2)}% Accurate\")"
   ]
  },
  {
   "cell_type": "code",
   "execution_count": 76,
   "id": "68f96cd4",
   "metadata": {},
   "outputs": [
    {
     "name": "stdout",
     "output_type": "stream",
     "text": [
      "              precision    recall  f1-score   support\n",
      "\n",
      "           0       0.59      0.47      0.52        51\n",
      "           1       0.81      0.87      0.84       134\n",
      "\n",
      "    accuracy                           0.76       185\n",
      "   macro avg       0.70      0.67      0.68       185\n",
      "weighted avg       0.75      0.76      0.75       185\n",
      "\n",
      "76.22% Accurate\n"
     ]
    }
   ],
   "source": [
    "from sklearn.ensemble import RandomForestClassifier\n",
    "RF = RandomForestClassifier()\n",
    "RF.fit(X_train, y_train)\n",
    "\n",
    "y_predict = RF.predict(X_test)\n",
    "\n",
    "#  prediction Summary by species\n",
    "print(classification_report(y_test, y_predict))\n",
    "\n",
    "# Accuracy score\n",
    "RF_SC = accuracy_score(y_predict,y_test)\n",
    "print(f\"{round(RF_SC*100,2)}% Accurate\")"
   ]
  },
  {
   "cell_type": "markdown",
   "id": "7ee546ab",
   "metadata": {},
   "source": [
    "# Conclusion:\n",
    "We did Exploratory data Analysis on the features of this dataset and saw how each feature is distributed.\n",
    "We did bivariate and multivariate analysis to see imapct of one another on their features using charts.\n",
    "We analysed each variable to check if data is cleaned and normally distributed.\n",
    "We cleaned the data and removed NA values\n",
    "We calculated correaltion between independent variables and found that applicant income and loan amount have significant relation.\n",
    "We created dummy variables for constructing the model\n",
    "We constructed models taking different variables into account and found through odds ratio that credit credit history is creating the most impact on loan giving decision\n",
    "Finally, we got a model with coapplicant income and credit history as independent variable with highest accuracy.\n",
    "We tested the data and got the accuracy of 83 %"
   ]
  },
  {
   "cell_type": "code",
   "execution_count": null,
   "id": "ad335704",
   "metadata": {},
   "outputs": [],
   "source": []
  }
 ],
 "metadata": {
  "kernelspec": {
   "display_name": "Python 3 (ipykernel)",
   "language": "python",
   "name": "python3"
  },
  "language_info": {
   "codemirror_mode": {
    "name": "ipython",
    "version": 3
   },
   "file_extension": ".py",
   "mimetype": "text/x-python",
   "name": "python",
   "nbconvert_exporter": "python",
   "pygments_lexer": "ipython3",
   "version": "3.9.12"
  }
 },
 "nbformat": 4,
 "nbformat_minor": 5
}
